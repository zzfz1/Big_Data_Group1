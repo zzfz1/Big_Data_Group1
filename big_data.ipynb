{
 "cells": [
  {
   "cell_type": "code",
   "execution_count": 1,
   "metadata": {},
   "outputs": [
    {
     "name": "stdout",
     "output_type": "stream",
     "text": [
      "/home/zzfz/anaconda3/envs/BigData/lib/python3.10/site-packages/pyspark\n"
     ]
    }
   ],
   "source": [
    "import os\n",
    "from pyspark.find_spark_home import _find_spark_home\n",
    "from pyspark.sql import SparkSession\n",
    "from pyspark import StorageLevel, SparkConf, SparkContext\n",
    "import sparknlp\n",
    "\n",
    "print(_find_spark_home())"
   ]
  },
  {
   "cell_type": "code",
   "execution_count": 2,
   "metadata": {},
   "outputs": [
    {
     "name": "stderr",
     "output_type": "stream",
     "text": [
      "your 131072x1 screen size is bogus. expect trouble\n",
      "24/01/02 23:10:17 WARN Utils: Your hostname, GinXPS15 resolves to a loopback address: 127.0.1.1; using 172.29.117.66 instead (on interface eth0)\n",
      "24/01/02 23:10:17 WARN Utils: Set SPARK_LOCAL_IP if you need to bind to another address\n"
     ]
    },
    {
     "name": "stdout",
     "output_type": "stream",
     "text": [
      ":: loading settings :: url = jar:file:/home/zzfz/anaconda3/envs/BigData/lib/python3.10/site-packages/pyspark/jars/ivy-2.5.1.jar!/org/apache/ivy/core/settings/ivysettings.xml\n"
     ]
    },
    {
     "name": "stderr",
     "output_type": "stream",
     "text": [
      "Ivy Default Cache set to: /home/zzfz/.ivy2/cache\n",
      "The jars for the packages stored in: /home/zzfz/.ivy2/jars\n",
      "com.johnsnowlabs.nlp#spark-nlp_2.12 added as a dependency\n",
      ":: resolving dependencies :: org.apache.spark#spark-submit-parent-9197dbee-f2ee-452c-b0fc-ca5b6a6b319f;1.0\n",
      "\tconfs: [default]\n",
      "\tfound com.johnsnowlabs.nlp#spark-nlp_2.12;5.2.0 in central\n",
      "\tfound com.typesafe#config;1.4.2 in central\n",
      "\tfound org.rocksdb#rocksdbjni;6.29.5 in central\n",
      "\tfound com.amazonaws#aws-java-sdk-bundle;1.11.828 in central\n",
      "\tfound com.github.universal-automata#liblevenshtein;3.0.0 in central\n",
      "\tfound com.google.protobuf#protobuf-java-util;3.0.0-beta-3 in central\n",
      "\tfound com.google.protobuf#protobuf-java;3.0.0-beta-3 in central\n",
      "\tfound com.google.code.gson#gson;2.3 in central\n",
      "\tfound it.unimi.dsi#fastutil;7.0.12 in central\n",
      "\tfound org.projectlombok#lombok;1.16.8 in central\n",
      "\tfound com.google.cloud#google-cloud-storage;2.20.1 in central\n",
      "\tfound com.google.guava#guava;31.1-jre in central\n",
      "\tfound com.google.guava#failureaccess;1.0.1 in central\n",
      "\tfound com.google.guava#listenablefuture;9999.0-empty-to-avoid-conflict-with-guava in central\n",
      "\tfound com.google.errorprone#error_prone_annotations;2.18.0 in central\n",
      "\tfound com.google.j2objc#j2objc-annotations;1.3 in central\n",
      "\tfound com.google.http-client#google-http-client;1.43.0 in central\n",
      "\tfound io.opencensus#opencensus-contrib-http-util;0.31.1 in central\n",
      "\tfound com.google.http-client#google-http-client-jackson2;1.43.0 in central\n",
      "\tfound com.google.http-client#google-http-client-gson;1.43.0 in central\n",
      "\tfound com.google.api-client#google-api-client;2.2.0 in central\n",
      "\tfound commons-codec#commons-codec;1.15 in central\n",
      "\tfound com.google.oauth-client#google-oauth-client;1.34.1 in central\n",
      "\tfound com.google.http-client#google-http-client-apache-v2;1.43.0 in central\n",
      "\tfound com.google.apis#google-api-services-storage;v1-rev20220705-2.0.0 in central\n",
      "\tfound com.google.code.gson#gson;2.10.1 in central\n",
      "\tfound com.google.cloud#google-cloud-core;2.12.0 in central\n",
      "\tfound io.grpc#grpc-context;1.53.0 in central\n",
      "\tfound com.google.auto.value#auto-value-annotations;1.10.1 in central\n",
      "\tfound com.google.auto.value#auto-value;1.10.1 in central\n",
      "\tfound javax.annotation#javax.annotation-api;1.3.2 in central\n",
      "\tfound commons-logging#commons-logging;1.2 in central\n",
      "\tfound com.google.cloud#google-cloud-core-http;2.12.0 in central\n",
      "\tfound com.google.http-client#google-http-client-appengine;1.43.0 in central\n",
      "\tfound com.google.api#gax-httpjson;0.108.2 in central\n",
      "\tfound com.google.cloud#google-cloud-core-grpc;2.12.0 in central\n",
      "\tfound io.grpc#grpc-alts;1.53.0 in central\n",
      "\tfound io.grpc#grpc-grpclb;1.53.0 in central\n",
      "\tfound org.conscrypt#conscrypt-openjdk-uber;2.5.2 in central\n",
      "\tfound io.grpc#grpc-auth;1.53.0 in central\n",
      "\tfound io.grpc#grpc-protobuf;1.53.0 in central\n",
      "\tfound io.grpc#grpc-protobuf-lite;1.53.0 in central\n",
      "\tfound io.grpc#grpc-core;1.53.0 in central\n",
      "\tfound com.google.api#gax;2.23.2 in central\n",
      "\tfound com.google.api#gax-grpc;2.23.2 in central\n",
      "\tfound com.google.auth#google-auth-library-credentials;1.16.0 in central\n",
      "\tfound com.google.auth#google-auth-library-oauth2-http;1.16.0 in central\n",
      "\tfound com.google.api#api-common;2.6.2 in central\n",
      "\tfound io.opencensus#opencensus-api;0.31.1 in central\n",
      "\tfound com.google.api.grpc#proto-google-iam-v1;1.9.2 in central\n",
      "\tfound com.google.protobuf#protobuf-java;3.21.12 in central\n",
      "\tfound com.google.protobuf#protobuf-java-util;3.21.12 in central\n",
      "\tfound com.google.api.grpc#proto-google-common-protos;2.14.2 in central\n",
      "\tfound org.threeten#threetenbp;1.6.5 in central\n",
      "\tfound com.google.api.grpc#proto-google-cloud-storage-v2;2.20.1-alpha in central\n",
      "\tfound com.google.api.grpc#grpc-google-cloud-storage-v2;2.20.1-alpha in central\n",
      "\tfound com.google.api.grpc#gapic-google-cloud-storage-v2;2.20.1-alpha in central\n",
      "\tfound com.fasterxml.jackson.core#jackson-core;2.14.2 in central\n",
      "\tfound com.google.code.findbugs#jsr305;3.0.2 in central\n",
      "\tfound io.grpc#grpc-api;1.53.0 in central\n",
      "\tfound io.grpc#grpc-stub;1.53.0 in central\n",
      "\tfound org.checkerframework#checker-qual;3.31.0 in central\n",
      "\tfound io.perfmark#perfmark-api;0.26.0 in central\n",
      "\tfound com.google.android#annotations;4.1.1.4 in central\n",
      "\tfound org.codehaus.mojo#animal-sniffer-annotations;1.22 in central\n",
      "\tfound io.opencensus#opencensus-proto;0.2.0 in central\n",
      "\tfound io.grpc#grpc-services;1.53.0 in central\n",
      "\tfound com.google.re2j#re2j;1.6 in central\n",
      "\tfound io.grpc#grpc-netty-shaded;1.53.0 in central\n",
      "\tfound io.grpc#grpc-googleapis;1.53.0 in central\n",
      "\tfound io.grpc#grpc-xds;1.53.0 in central\n",
      "\tfound com.navigamez#greex;1.0 in central\n",
      "\tfound dk.brics.automaton#automaton;1.11-8 in central\n",
      "\tfound com.johnsnowlabs.nlp#tensorflow-cpu_2.12;0.4.4 in central\n",
      "\tfound com.microsoft.onnxruntime#onnxruntime;1.16.3 in central\n",
      ":: resolution report :: resolve 766ms :: artifacts dl 44ms\n",
      "\t:: modules in use:\n",
      "\tcom.amazonaws#aws-java-sdk-bundle;1.11.828 from central in [default]\n",
      "\tcom.fasterxml.jackson.core#jackson-core;2.14.2 from central in [default]\n",
      "\tcom.github.universal-automata#liblevenshtein;3.0.0 from central in [default]\n",
      "\tcom.google.android#annotations;4.1.1.4 from central in [default]\n",
      "\tcom.google.api#api-common;2.6.2 from central in [default]\n",
      "\tcom.google.api#gax;2.23.2 from central in [default]\n",
      "\tcom.google.api#gax-grpc;2.23.2 from central in [default]\n",
      "\tcom.google.api#gax-httpjson;0.108.2 from central in [default]\n",
      "\tcom.google.api-client#google-api-client;2.2.0 from central in [default]\n",
      "\tcom.google.api.grpc#gapic-google-cloud-storage-v2;2.20.1-alpha from central in [default]\n",
      "\tcom.google.api.grpc#grpc-google-cloud-storage-v2;2.20.1-alpha from central in [default]\n",
      "\tcom.google.api.grpc#proto-google-cloud-storage-v2;2.20.1-alpha from central in [default]\n",
      "\tcom.google.api.grpc#proto-google-common-protos;2.14.2 from central in [default]\n",
      "\tcom.google.api.grpc#proto-google-iam-v1;1.9.2 from central in [default]\n",
      "\tcom.google.apis#google-api-services-storage;v1-rev20220705-2.0.0 from central in [default]\n",
      "\tcom.google.auth#google-auth-library-credentials;1.16.0 from central in [default]\n",
      "\tcom.google.auth#google-auth-library-oauth2-http;1.16.0 from central in [default]\n",
      "\tcom.google.auto.value#auto-value;1.10.1 from central in [default]\n",
      "\tcom.google.auto.value#auto-value-annotations;1.10.1 from central in [default]\n",
      "\tcom.google.cloud#google-cloud-core;2.12.0 from central in [default]\n",
      "\tcom.google.cloud#google-cloud-core-grpc;2.12.0 from central in [default]\n",
      "\tcom.google.cloud#google-cloud-core-http;2.12.0 from central in [default]\n",
      "\tcom.google.cloud#google-cloud-storage;2.20.1 from central in [default]\n",
      "\tcom.google.code.findbugs#jsr305;3.0.2 from central in [default]\n",
      "\tcom.google.code.gson#gson;2.10.1 from central in [default]\n",
      "\tcom.google.errorprone#error_prone_annotations;2.18.0 from central in [default]\n",
      "\tcom.google.guava#failureaccess;1.0.1 from central in [default]\n",
      "\tcom.google.guava#guava;31.1-jre from central in [default]\n",
      "\tcom.google.guava#listenablefuture;9999.0-empty-to-avoid-conflict-with-guava from central in [default]\n",
      "\tcom.google.http-client#google-http-client;1.43.0 from central in [default]\n",
      "\tcom.google.http-client#google-http-client-apache-v2;1.43.0 from central in [default]\n",
      "\tcom.google.http-client#google-http-client-appengine;1.43.0 from central in [default]\n",
      "\tcom.google.http-client#google-http-client-gson;1.43.0 from central in [default]\n",
      "\tcom.google.http-client#google-http-client-jackson2;1.43.0 from central in [default]\n",
      "\tcom.google.j2objc#j2objc-annotations;1.3 from central in [default]\n",
      "\tcom.google.oauth-client#google-oauth-client;1.34.1 from central in [default]\n",
      "\tcom.google.protobuf#protobuf-java;3.21.12 from central in [default]\n",
      "\tcom.google.protobuf#protobuf-java-util;3.21.12 from central in [default]\n",
      "\tcom.google.re2j#re2j;1.6 from central in [default]\n",
      "\tcom.johnsnowlabs.nlp#spark-nlp_2.12;5.2.0 from central in [default]\n",
      "\tcom.johnsnowlabs.nlp#tensorflow-cpu_2.12;0.4.4 from central in [default]\n",
      "\tcom.microsoft.onnxruntime#onnxruntime;1.16.3 from central in [default]\n",
      "\tcom.navigamez#greex;1.0 from central in [default]\n",
      "\tcom.typesafe#config;1.4.2 from central in [default]\n",
      "\tcommons-codec#commons-codec;1.15 from central in [default]\n",
      "\tcommons-logging#commons-logging;1.2 from central in [default]\n",
      "\tdk.brics.automaton#automaton;1.11-8 from central in [default]\n",
      "\tio.grpc#grpc-alts;1.53.0 from central in [default]\n",
      "\tio.grpc#grpc-api;1.53.0 from central in [default]\n",
      "\tio.grpc#grpc-auth;1.53.0 from central in [default]\n",
      "\tio.grpc#grpc-context;1.53.0 from central in [default]\n",
      "\tio.grpc#grpc-core;1.53.0 from central in [default]\n",
      "\tio.grpc#grpc-googleapis;1.53.0 from central in [default]\n",
      "\tio.grpc#grpc-grpclb;1.53.0 from central in [default]\n",
      "\tio.grpc#grpc-netty-shaded;1.53.0 from central in [default]\n",
      "\tio.grpc#grpc-protobuf;1.53.0 from central in [default]\n",
      "\tio.grpc#grpc-protobuf-lite;1.53.0 from central in [default]\n",
      "\tio.grpc#grpc-services;1.53.0 from central in [default]\n",
      "\tio.grpc#grpc-stub;1.53.0 from central in [default]\n",
      "\tio.grpc#grpc-xds;1.53.0 from central in [default]\n",
      "\tio.opencensus#opencensus-api;0.31.1 from central in [default]\n",
      "\tio.opencensus#opencensus-contrib-http-util;0.31.1 from central in [default]\n",
      "\tio.opencensus#opencensus-proto;0.2.0 from central in [default]\n",
      "\tio.perfmark#perfmark-api;0.26.0 from central in [default]\n",
      "\tit.unimi.dsi#fastutil;7.0.12 from central in [default]\n",
      "\tjavax.annotation#javax.annotation-api;1.3.2 from central in [default]\n",
      "\torg.checkerframework#checker-qual;3.31.0 from central in [default]\n",
      "\torg.codehaus.mojo#animal-sniffer-annotations;1.22 from central in [default]\n",
      "\torg.conscrypt#conscrypt-openjdk-uber;2.5.2 from central in [default]\n",
      "\torg.projectlombok#lombok;1.16.8 from central in [default]\n",
      "\torg.rocksdb#rocksdbjni;6.29.5 from central in [default]\n",
      "\torg.threeten#threetenbp;1.6.5 from central in [default]\n",
      "\t:: evicted modules:\n",
      "\tcom.google.protobuf#protobuf-java-util;3.0.0-beta-3 by [com.google.protobuf#protobuf-java-util;3.21.12] in [default]\n",
      "\tcom.google.protobuf#protobuf-java;3.0.0-beta-3 by [com.google.protobuf#protobuf-java;3.21.12] in [default]\n",
      "\tcom.google.code.gson#gson;2.3 by [com.google.code.gson#gson;2.10.1] in [default]\n",
      "\t---------------------------------------------------------------------\n",
      "\t|                  |            modules            ||   artifacts   |\n",
      "\t|       conf       | number| search|dwnlded|evicted|| number|dwnlded|\n",
      "\t---------------------------------------------------------------------\n",
      "\t|      default     |   75  |   0   |   0   |   3   ||   72  |   0   |\n",
      "\t---------------------------------------------------------------------\n",
      ":: retrieving :: org.apache.spark#spark-submit-parent-9197dbee-f2ee-452c-b0fc-ca5b6a6b319f\n",
      "\tconfs: [default]\n",
      "\t0 artifacts copied, 72 already retrieved (0kB/17ms)\n",
      "24/01/02 23:10:20 WARN NativeCodeLoader: Unable to load native-hadoop library for your platform... using builtin-java classes where applicable\n",
      "Setting default log level to \"WARN\".\n",
      "To adjust logging level use sc.setLogLevel(newLevel). For SparkR, use setLogLevel(newLevel).\n"
     ]
    },
    {
     "name": "stdout",
     "output_type": "stream",
     "text": [
      "('spark.driver.extraJavaOptions', '-Djava.net.preferIPv6Addresses=false -XX:+IgnoreUnrecognizedVMOptions --add-opens=java.base/java.lang=ALL-UNNAMED --add-opens=java.base/java.lang.invoke=ALL-UNNAMED --add-opens=java.base/java.lang.reflect=ALL-UNNAMED --add-opens=java.base/java.io=ALL-UNNAMED --add-opens=java.base/java.net=ALL-UNNAMED --add-opens=java.base/java.nio=ALL-UNNAMED --add-opens=java.base/java.util=ALL-UNNAMED --add-opens=java.base/java.util.concurrent=ALL-UNNAMED --add-opens=java.base/java.util.concurrent.atomic=ALL-UNNAMED --add-opens=java.base/jdk.internal.ref=ALL-UNNAMED --add-opens=java.base/sun.nio.ch=ALL-UNNAMED --add-opens=java.base/sun.nio.cs=ALL-UNNAMED --add-opens=java.base/sun.security.action=ALL-UNNAMED --add-opens=java.base/sun.util.calendar=ALL-UNNAMED --add-opens=java.security.jgss/sun.security.krb5=ALL-UNNAMED -Djdk.reflect.useDirectMethodHandle=false')\n",
      "('spark.driver.memory', '16G')\n",
      "('spark.app.initial.file.urls', 'file:///home/zzfz/.ivy2/jars/javax.annotation_javax.annotation-api-1.3.2.jar,file:///home/zzfz/.ivy2/jars/com.google.oauth-client_google-oauth-client-1.34.1.jar,file:///home/zzfz/.ivy2/jars/com.google.cloud_google-cloud-core-grpc-2.12.0.jar,file:///home/zzfz/.ivy2/jars/org.rocksdb_rocksdbjni-6.29.5.jar,file:///home/zzfz/.ivy2/jars/com.google.auto.value_auto-value-annotations-1.10.1.jar,file:///home/zzfz/.ivy2/jars/com.google.android_annotations-4.1.1.4.jar,file:///home/zzfz/.ivy2/jars/commons-codec_commons-codec-1.15.jar,file:///home/zzfz/.ivy2/jars/com.microsoft.onnxruntime_onnxruntime-1.16.3.jar,file:///home/zzfz/.ivy2/jars/com.navigamez_greex-1.0.jar,file:///home/zzfz/.ivy2/jars/io.grpc_grpc-netty-shaded-1.53.0.jar,file:///home/zzfz/.ivy2/jars/com.github.universal-automata_liblevenshtein-3.0.0.jar,file:///home/zzfz/.ivy2/jars/org.projectlombok_lombok-1.16.8.jar,file:///home/zzfz/.ivy2/jars/io.opencensus_opencensus-api-0.31.1.jar,file:///home/zzfz/.ivy2/jars/com.google.guava_listenablefuture-9999.0-empty-to-avoid-conflict-with-guava.jar,file:///home/zzfz/.ivy2/jars/io.grpc_grpc-auth-1.53.0.jar,file:///home/zzfz/.ivy2/jars/com.google.auth_google-auth-library-credentials-1.16.0.jar,file:///home/zzfz/.ivy2/jars/com.google.api.grpc_proto-google-common-protos-2.14.2.jar,file:///home/zzfz/.ivy2/jars/com.typesafe_config-1.4.2.jar,file:///home/zzfz/.ivy2/jars/com.google.http-client_google-http-client-gson-1.43.0.jar,file:///home/zzfz/.ivy2/jars/com.google.code.gson_gson-2.10.1.jar,file:///home/zzfz/.ivy2/jars/org.codehaus.mojo_animal-sniffer-annotations-1.22.jar,file:///home/zzfz/.ivy2/jars/org.checkerframework_checker-qual-3.31.0.jar,file:///home/zzfz/.ivy2/jars/com.google.errorprone_error_prone_annotations-2.18.0.jar,file:///home/zzfz/.ivy2/jars/io.opencensus_opencensus-contrib-http-util-0.31.1.jar,file:///home/zzfz/.ivy2/jars/io.grpc_grpc-stub-1.53.0.jar,file:///home/zzfz/.ivy2/jars/com.fasterxml.jackson.core_jackson-core-2.14.2.jar,file:///home/zzfz/.ivy2/jars/org.threeten_threetenbp-1.6.5.jar,file:///home/zzfz/.ivy2/jars/com.google.code.findbugs_jsr305-3.0.2.jar,file:///home/zzfz/.ivy2/jars/com.google.apis_google-api-services-storage-v1-rev20220705-2.0.0.jar,file:///home/zzfz/.ivy2/jars/com.google.api.grpc_grpc-google-cloud-storage-v2-2.20.1-alpha.jar,file:///home/zzfz/.ivy2/jars/io.grpc_grpc-core-1.53.0.jar,file:///home/zzfz/.ivy2/jars/com.johnsnowlabs.nlp_tensorflow-cpu_2.12-0.4.4.jar,file:///home/zzfz/.ivy2/jars/com.google.api.grpc_proto-google-iam-v1-1.9.2.jar,file:///home/zzfz/.ivy2/jars/com.google.auth_google-auth-library-oauth2-http-1.16.0.jar,file:///home/zzfz/.ivy2/jars/com.google.api_gax-grpc-2.23.2.jar,file:///home/zzfz/.ivy2/jars/com.google.protobuf_protobuf-java-util-3.21.12.jar,file:///home/zzfz/.ivy2/jars/com.google.cloud_google-cloud-storage-2.20.1.jar,file:///home/zzfz/.ivy2/jars/com.google.api_api-common-2.6.2.jar,file:///home/zzfz/.ivy2/jars/com.amazonaws_aws-java-sdk-bundle-1.11.828.jar,file:///home/zzfz/.ivy2/jars/com.google.api_gax-httpjson-0.108.2.jar,file:///home/zzfz/.ivy2/jars/io.grpc_grpc-api-1.53.0.jar,file:///home/zzfz/.ivy2/jars/com.johnsnowlabs.nlp_spark-nlp_2.12-5.2.0.jar,file:///home/zzfz/.ivy2/jars/io.grpc_grpc-googleapis-1.53.0.jar,file:///home/zzfz/.ivy2/jars/com.google.j2objc_j2objc-annotations-1.3.jar,file:///home/zzfz/.ivy2/jars/io.grpc_grpc-grpclb-1.53.0.jar,file:///home/zzfz/.ivy2/jars/com.google.api.grpc_proto-google-cloud-storage-v2-2.20.1-alpha.jar,file:///home/zzfz/.ivy2/jars/commons-logging_commons-logging-1.2.jar,file:///home/zzfz/.ivy2/jars/com.google.http-client_google-http-client-jackson2-1.43.0.jar,file:///home/zzfz/.ivy2/jars/com.google.http-client_google-http-client-1.43.0.jar,file:///home/zzfz/.ivy2/jars/com.google.auto.value_auto-value-1.10.1.jar,file:///home/zzfz/.ivy2/jars/com.google.api.grpc_gapic-google-cloud-storage-v2-2.20.1-alpha.jar,file:///home/zzfz/.ivy2/jars/io.grpc_grpc-services-1.53.0.jar,file:///home/zzfz/.ivy2/jars/io.opencensus_opencensus-proto-0.2.0.jar,file:///home/zzfz/.ivy2/jars/com.google.api-client_google-api-client-2.2.0.jar,file:///home/zzfz/.ivy2/jars/com.google.api_gax-2.23.2.jar,file:///home/zzfz/.ivy2/jars/com.google.guava_guava-31.1-jre.jar,file:///home/zzfz/.ivy2/jars/io.grpc_grpc-protobuf-1.53.0.jar,file:///home/zzfz/.ivy2/jars/dk.brics.automaton_automaton-1.11-8.jar,file:///home/zzfz/.ivy2/jars/io.grpc_grpc-context-1.53.0.jar,file:///home/zzfz/.ivy2/jars/io.perfmark_perfmark-api-0.26.0.jar,file:///home/zzfz/.ivy2/jars/com.google.cloud_google-cloud-core-2.12.0.jar,file:///home/zzfz/.ivy2/jars/it.unimi.dsi_fastutil-7.0.12.jar,file:///home/zzfz/.ivy2/jars/io.grpc_grpc-alts-1.53.0.jar,file:///home/zzfz/.ivy2/jars/org.conscrypt_conscrypt-openjdk-uber-2.5.2.jar,file:///home/zzfz/.ivy2/jars/io.grpc_grpc-protobuf-lite-1.53.0.jar,file:///home/zzfz/.ivy2/jars/com.google.cloud_google-cloud-core-http-2.12.0.jar,file:///home/zzfz/.ivy2/jars/com.google.re2j_re2j-1.6.jar,file:///home/zzfz/.ivy2/jars/com.google.http-client_google-http-client-appengine-1.43.0.jar,file:///home/zzfz/.ivy2/jars/com.google.http-client_google-http-client-apache-v2-1.43.0.jar,file:///home/zzfz/.ivy2/jars/com.google.protobuf_protobuf-java-3.21.12.jar,file:///home/zzfz/.ivy2/jars/com.google.guava_failureaccess-1.0.1.jar,file:///home/zzfz/.ivy2/jars/io.grpc_grpc-xds-1.53.0.jar')\n",
      "('spark.app.name', 'Spark NLP')\n",
      "('spark.app.submitTime', '1704233420331')\n",
      "('spark.executor.id', 'driver')\n",
      "('spark.kryoserializer.buffer.max', '2000M')\n",
      "('spark.files', 'file:///home/zzfz/.ivy2/jars/com.johnsnowlabs.nlp_spark-nlp_2.12-5.2.0.jar,file:///home/zzfz/.ivy2/jars/com.typesafe_config-1.4.2.jar,file:///home/zzfz/.ivy2/jars/org.rocksdb_rocksdbjni-6.29.5.jar,file:///home/zzfz/.ivy2/jars/com.amazonaws_aws-java-sdk-bundle-1.11.828.jar,file:///home/zzfz/.ivy2/jars/com.github.universal-automata_liblevenshtein-3.0.0.jar,file:///home/zzfz/.ivy2/jars/com.google.cloud_google-cloud-storage-2.20.1.jar,file:///home/zzfz/.ivy2/jars/com.navigamez_greex-1.0.jar,file:///home/zzfz/.ivy2/jars/com.johnsnowlabs.nlp_tensorflow-cpu_2.12-0.4.4.jar,file:///home/zzfz/.ivy2/jars/com.microsoft.onnxruntime_onnxruntime-1.16.3.jar,file:///home/zzfz/.ivy2/jars/it.unimi.dsi_fastutil-7.0.12.jar,file:///home/zzfz/.ivy2/jars/org.projectlombok_lombok-1.16.8.jar,file:///home/zzfz/.ivy2/jars/com.google.guava_guava-31.1-jre.jar,file:///home/zzfz/.ivy2/jars/com.google.guava_failureaccess-1.0.1.jar,file:///home/zzfz/.ivy2/jars/com.google.guava_listenablefuture-9999.0-empty-to-avoid-conflict-with-guava.jar,file:///home/zzfz/.ivy2/jars/com.google.errorprone_error_prone_annotations-2.18.0.jar,file:///home/zzfz/.ivy2/jars/com.google.j2objc_j2objc-annotations-1.3.jar,file:///home/zzfz/.ivy2/jars/com.google.http-client_google-http-client-1.43.0.jar,file:///home/zzfz/.ivy2/jars/io.opencensus_opencensus-contrib-http-util-0.31.1.jar,file:///home/zzfz/.ivy2/jars/com.google.http-client_google-http-client-jackson2-1.43.0.jar,file:///home/zzfz/.ivy2/jars/com.google.http-client_google-http-client-gson-1.43.0.jar,file:///home/zzfz/.ivy2/jars/com.google.api-client_google-api-client-2.2.0.jar,file:///home/zzfz/.ivy2/jars/commons-codec_commons-codec-1.15.jar,file:///home/zzfz/.ivy2/jars/com.google.oauth-client_google-oauth-client-1.34.1.jar,file:///home/zzfz/.ivy2/jars/com.google.http-client_google-http-client-apache-v2-1.43.0.jar,file:///home/zzfz/.ivy2/jars/com.google.apis_google-api-services-storage-v1-rev20220705-2.0.0.jar,file:///home/zzfz/.ivy2/jars/com.google.code.gson_gson-2.10.1.jar,file:///home/zzfz/.ivy2/jars/com.google.cloud_google-cloud-core-2.12.0.jar,file:///home/zzfz/.ivy2/jars/io.grpc_grpc-context-1.53.0.jar,file:///home/zzfz/.ivy2/jars/com.google.auto.value_auto-value-annotations-1.10.1.jar,file:///home/zzfz/.ivy2/jars/com.google.auto.value_auto-value-1.10.1.jar,file:///home/zzfz/.ivy2/jars/javax.annotation_javax.annotation-api-1.3.2.jar,file:///home/zzfz/.ivy2/jars/commons-logging_commons-logging-1.2.jar,file:///home/zzfz/.ivy2/jars/com.google.cloud_google-cloud-core-http-2.12.0.jar,file:///home/zzfz/.ivy2/jars/com.google.http-client_google-http-client-appengine-1.43.0.jar,file:///home/zzfz/.ivy2/jars/com.google.api_gax-httpjson-0.108.2.jar,file:///home/zzfz/.ivy2/jars/com.google.cloud_google-cloud-core-grpc-2.12.0.jar,file:///home/zzfz/.ivy2/jars/io.grpc_grpc-alts-1.53.0.jar,file:///home/zzfz/.ivy2/jars/io.grpc_grpc-grpclb-1.53.0.jar,file:///home/zzfz/.ivy2/jars/org.conscrypt_conscrypt-openjdk-uber-2.5.2.jar,file:///home/zzfz/.ivy2/jars/io.grpc_grpc-auth-1.53.0.jar,file:///home/zzfz/.ivy2/jars/io.grpc_grpc-protobuf-1.53.0.jar,file:///home/zzfz/.ivy2/jars/io.grpc_grpc-protobuf-lite-1.53.0.jar,file:///home/zzfz/.ivy2/jars/io.grpc_grpc-core-1.53.0.jar,file:///home/zzfz/.ivy2/jars/com.google.api_gax-2.23.2.jar,file:///home/zzfz/.ivy2/jars/com.google.api_gax-grpc-2.23.2.jar,file:///home/zzfz/.ivy2/jars/com.google.auth_google-auth-library-credentials-1.16.0.jar,file:///home/zzfz/.ivy2/jars/com.google.auth_google-auth-library-oauth2-http-1.16.0.jar,file:///home/zzfz/.ivy2/jars/com.google.api_api-common-2.6.2.jar,file:///home/zzfz/.ivy2/jars/io.opencensus_opencensus-api-0.31.1.jar,file:///home/zzfz/.ivy2/jars/com.google.api.grpc_proto-google-iam-v1-1.9.2.jar,file:///home/zzfz/.ivy2/jars/com.google.protobuf_protobuf-java-3.21.12.jar,file:///home/zzfz/.ivy2/jars/com.google.protobuf_protobuf-java-util-3.21.12.jar,file:///home/zzfz/.ivy2/jars/com.google.api.grpc_proto-google-common-protos-2.14.2.jar,file:///home/zzfz/.ivy2/jars/org.threeten_threetenbp-1.6.5.jar,file:///home/zzfz/.ivy2/jars/com.google.api.grpc_proto-google-cloud-storage-v2-2.20.1-alpha.jar,file:///home/zzfz/.ivy2/jars/com.google.api.grpc_grpc-google-cloud-storage-v2-2.20.1-alpha.jar,file:///home/zzfz/.ivy2/jars/com.google.api.grpc_gapic-google-cloud-storage-v2-2.20.1-alpha.jar,file:///home/zzfz/.ivy2/jars/com.fasterxml.jackson.core_jackson-core-2.14.2.jar,file:///home/zzfz/.ivy2/jars/com.google.code.findbugs_jsr305-3.0.2.jar,file:///home/zzfz/.ivy2/jars/io.grpc_grpc-api-1.53.0.jar,file:///home/zzfz/.ivy2/jars/io.grpc_grpc-stub-1.53.0.jar,file:///home/zzfz/.ivy2/jars/org.checkerframework_checker-qual-3.31.0.jar,file:///home/zzfz/.ivy2/jars/io.perfmark_perfmark-api-0.26.0.jar,file:///home/zzfz/.ivy2/jars/com.google.android_annotations-4.1.1.4.jar,file:///home/zzfz/.ivy2/jars/org.codehaus.mojo_animal-sniffer-annotations-1.22.jar,file:///home/zzfz/.ivy2/jars/io.opencensus_opencensus-proto-0.2.0.jar,file:///home/zzfz/.ivy2/jars/io.grpc_grpc-services-1.53.0.jar,file:///home/zzfz/.ivy2/jars/com.google.re2j_re2j-1.6.jar,file:///home/zzfz/.ivy2/jars/io.grpc_grpc-netty-shaded-1.53.0.jar,file:///home/zzfz/.ivy2/jars/io.grpc_grpc-googleapis-1.53.0.jar,file:///home/zzfz/.ivy2/jars/io.grpc_grpc-xds-1.53.0.jar,file:///home/zzfz/.ivy2/jars/dk.brics.automaton_automaton-1.11-8.jar')\n",
      "('spark.driver.port', '39233')\n",
      "('spark.jars', 'file:///home/zzfz/.ivy2/jars/com.johnsnowlabs.nlp_spark-nlp_2.12-5.2.0.jar,file:///home/zzfz/.ivy2/jars/com.typesafe_config-1.4.2.jar,file:///home/zzfz/.ivy2/jars/org.rocksdb_rocksdbjni-6.29.5.jar,file:///home/zzfz/.ivy2/jars/com.amazonaws_aws-java-sdk-bundle-1.11.828.jar,file:///home/zzfz/.ivy2/jars/com.github.universal-automata_liblevenshtein-3.0.0.jar,file:///home/zzfz/.ivy2/jars/com.google.cloud_google-cloud-storage-2.20.1.jar,file:///home/zzfz/.ivy2/jars/com.navigamez_greex-1.0.jar,file:///home/zzfz/.ivy2/jars/com.johnsnowlabs.nlp_tensorflow-cpu_2.12-0.4.4.jar,file:///home/zzfz/.ivy2/jars/com.microsoft.onnxruntime_onnxruntime-1.16.3.jar,file:///home/zzfz/.ivy2/jars/it.unimi.dsi_fastutil-7.0.12.jar,file:///home/zzfz/.ivy2/jars/org.projectlombok_lombok-1.16.8.jar,file:///home/zzfz/.ivy2/jars/com.google.guava_guava-31.1-jre.jar,file:///home/zzfz/.ivy2/jars/com.google.guava_failureaccess-1.0.1.jar,file:///home/zzfz/.ivy2/jars/com.google.guava_listenablefuture-9999.0-empty-to-avoid-conflict-with-guava.jar,file:///home/zzfz/.ivy2/jars/com.google.errorprone_error_prone_annotations-2.18.0.jar,file:///home/zzfz/.ivy2/jars/com.google.j2objc_j2objc-annotations-1.3.jar,file:///home/zzfz/.ivy2/jars/com.google.http-client_google-http-client-1.43.0.jar,file:///home/zzfz/.ivy2/jars/io.opencensus_opencensus-contrib-http-util-0.31.1.jar,file:///home/zzfz/.ivy2/jars/com.google.http-client_google-http-client-jackson2-1.43.0.jar,file:///home/zzfz/.ivy2/jars/com.google.http-client_google-http-client-gson-1.43.0.jar,file:///home/zzfz/.ivy2/jars/com.google.api-client_google-api-client-2.2.0.jar,file:///home/zzfz/.ivy2/jars/commons-codec_commons-codec-1.15.jar,file:///home/zzfz/.ivy2/jars/com.google.oauth-client_google-oauth-client-1.34.1.jar,file:///home/zzfz/.ivy2/jars/com.google.http-client_google-http-client-apache-v2-1.43.0.jar,file:///home/zzfz/.ivy2/jars/com.google.apis_google-api-services-storage-v1-rev20220705-2.0.0.jar,file:///home/zzfz/.ivy2/jars/com.google.code.gson_gson-2.10.1.jar,file:///home/zzfz/.ivy2/jars/com.google.cloud_google-cloud-core-2.12.0.jar,file:///home/zzfz/.ivy2/jars/io.grpc_grpc-context-1.53.0.jar,file:///home/zzfz/.ivy2/jars/com.google.auto.value_auto-value-annotations-1.10.1.jar,file:///home/zzfz/.ivy2/jars/com.google.auto.value_auto-value-1.10.1.jar,file:///home/zzfz/.ivy2/jars/javax.annotation_javax.annotation-api-1.3.2.jar,file:///home/zzfz/.ivy2/jars/commons-logging_commons-logging-1.2.jar,file:///home/zzfz/.ivy2/jars/com.google.cloud_google-cloud-core-http-2.12.0.jar,file:///home/zzfz/.ivy2/jars/com.google.http-client_google-http-client-appengine-1.43.0.jar,file:///home/zzfz/.ivy2/jars/com.google.api_gax-httpjson-0.108.2.jar,file:///home/zzfz/.ivy2/jars/com.google.cloud_google-cloud-core-grpc-2.12.0.jar,file:///home/zzfz/.ivy2/jars/io.grpc_grpc-alts-1.53.0.jar,file:///home/zzfz/.ivy2/jars/io.grpc_grpc-grpclb-1.53.0.jar,file:///home/zzfz/.ivy2/jars/org.conscrypt_conscrypt-openjdk-uber-2.5.2.jar,file:///home/zzfz/.ivy2/jars/io.grpc_grpc-auth-1.53.0.jar,file:///home/zzfz/.ivy2/jars/io.grpc_grpc-protobuf-1.53.0.jar,file:///home/zzfz/.ivy2/jars/io.grpc_grpc-protobuf-lite-1.53.0.jar,file:///home/zzfz/.ivy2/jars/io.grpc_grpc-core-1.53.0.jar,file:///home/zzfz/.ivy2/jars/com.google.api_gax-2.23.2.jar,file:///home/zzfz/.ivy2/jars/com.google.api_gax-grpc-2.23.2.jar,file:///home/zzfz/.ivy2/jars/com.google.auth_google-auth-library-credentials-1.16.0.jar,file:///home/zzfz/.ivy2/jars/com.google.auth_google-auth-library-oauth2-http-1.16.0.jar,file:///home/zzfz/.ivy2/jars/com.google.api_api-common-2.6.2.jar,file:///home/zzfz/.ivy2/jars/io.opencensus_opencensus-api-0.31.1.jar,file:///home/zzfz/.ivy2/jars/com.google.api.grpc_proto-google-iam-v1-1.9.2.jar,file:///home/zzfz/.ivy2/jars/com.google.protobuf_protobuf-java-3.21.12.jar,file:///home/zzfz/.ivy2/jars/com.google.protobuf_protobuf-java-util-3.21.12.jar,file:///home/zzfz/.ivy2/jars/com.google.api.grpc_proto-google-common-protos-2.14.2.jar,file:///home/zzfz/.ivy2/jars/org.threeten_threetenbp-1.6.5.jar,file:///home/zzfz/.ivy2/jars/com.google.api.grpc_proto-google-cloud-storage-v2-2.20.1-alpha.jar,file:///home/zzfz/.ivy2/jars/com.google.api.grpc_grpc-google-cloud-storage-v2-2.20.1-alpha.jar,file:///home/zzfz/.ivy2/jars/com.google.api.grpc_gapic-google-cloud-storage-v2-2.20.1-alpha.jar,file:///home/zzfz/.ivy2/jars/com.fasterxml.jackson.core_jackson-core-2.14.2.jar,file:///home/zzfz/.ivy2/jars/com.google.code.findbugs_jsr305-3.0.2.jar,file:///home/zzfz/.ivy2/jars/io.grpc_grpc-api-1.53.0.jar,file:///home/zzfz/.ivy2/jars/io.grpc_grpc-stub-1.53.0.jar,file:///home/zzfz/.ivy2/jars/org.checkerframework_checker-qual-3.31.0.jar,file:///home/zzfz/.ivy2/jars/io.perfmark_perfmark-api-0.26.0.jar,file:///home/zzfz/.ivy2/jars/com.google.android_annotations-4.1.1.4.jar,file:///home/zzfz/.ivy2/jars/org.codehaus.mojo_animal-sniffer-annotations-1.22.jar,file:///home/zzfz/.ivy2/jars/io.opencensus_opencensus-proto-0.2.0.jar,file:///home/zzfz/.ivy2/jars/io.grpc_grpc-services-1.53.0.jar,file:///home/zzfz/.ivy2/jars/com.google.re2j_re2j-1.6.jar,file:///home/zzfz/.ivy2/jars/io.grpc_grpc-netty-shaded-1.53.0.jar,file:///home/zzfz/.ivy2/jars/io.grpc_grpc-googleapis-1.53.0.jar,file:///home/zzfz/.ivy2/jars/io.grpc_grpc-xds-1.53.0.jar,file:///home/zzfz/.ivy2/jars/dk.brics.automaton_automaton-1.11-8.jar')\n",
      "('spark.serializer', 'org.apache.spark.serializer.KryoSerializer')\n",
      "('spark.jars.packages', 'com.johnsnowlabs.nlp:spark-nlp_2.12:5.2.0')\n",
      "('spark.app.id', 'local-1704233422007')\n",
      "('spark.repl.local.jars', 'file:///home/zzfz/.ivy2/jars/com.johnsnowlabs.nlp_spark-nlp_2.12-5.2.0.jar,file:///home/zzfz/.ivy2/jars/com.typesafe_config-1.4.2.jar,file:///home/zzfz/.ivy2/jars/org.rocksdb_rocksdbjni-6.29.5.jar,file:///home/zzfz/.ivy2/jars/com.amazonaws_aws-java-sdk-bundle-1.11.828.jar,file:///home/zzfz/.ivy2/jars/com.github.universal-automata_liblevenshtein-3.0.0.jar,file:///home/zzfz/.ivy2/jars/com.google.cloud_google-cloud-storage-2.20.1.jar,file:///home/zzfz/.ivy2/jars/com.navigamez_greex-1.0.jar,file:///home/zzfz/.ivy2/jars/com.johnsnowlabs.nlp_tensorflow-cpu_2.12-0.4.4.jar,file:///home/zzfz/.ivy2/jars/com.microsoft.onnxruntime_onnxruntime-1.16.3.jar,file:///home/zzfz/.ivy2/jars/it.unimi.dsi_fastutil-7.0.12.jar,file:///home/zzfz/.ivy2/jars/org.projectlombok_lombok-1.16.8.jar,file:///home/zzfz/.ivy2/jars/com.google.guava_guava-31.1-jre.jar,file:///home/zzfz/.ivy2/jars/com.google.guava_failureaccess-1.0.1.jar,file:///home/zzfz/.ivy2/jars/com.google.guava_listenablefuture-9999.0-empty-to-avoid-conflict-with-guava.jar,file:///home/zzfz/.ivy2/jars/com.google.errorprone_error_prone_annotations-2.18.0.jar,file:///home/zzfz/.ivy2/jars/com.google.j2objc_j2objc-annotations-1.3.jar,file:///home/zzfz/.ivy2/jars/com.google.http-client_google-http-client-1.43.0.jar,file:///home/zzfz/.ivy2/jars/io.opencensus_opencensus-contrib-http-util-0.31.1.jar,file:///home/zzfz/.ivy2/jars/com.google.http-client_google-http-client-jackson2-1.43.0.jar,file:///home/zzfz/.ivy2/jars/com.google.http-client_google-http-client-gson-1.43.0.jar,file:///home/zzfz/.ivy2/jars/com.google.api-client_google-api-client-2.2.0.jar,file:///home/zzfz/.ivy2/jars/commons-codec_commons-codec-1.15.jar,file:///home/zzfz/.ivy2/jars/com.google.oauth-client_google-oauth-client-1.34.1.jar,file:///home/zzfz/.ivy2/jars/com.google.http-client_google-http-client-apache-v2-1.43.0.jar,file:///home/zzfz/.ivy2/jars/com.google.apis_google-api-services-storage-v1-rev20220705-2.0.0.jar,file:///home/zzfz/.ivy2/jars/com.google.code.gson_gson-2.10.1.jar,file:///home/zzfz/.ivy2/jars/com.google.cloud_google-cloud-core-2.12.0.jar,file:///home/zzfz/.ivy2/jars/io.grpc_grpc-context-1.53.0.jar,file:///home/zzfz/.ivy2/jars/com.google.auto.value_auto-value-annotations-1.10.1.jar,file:///home/zzfz/.ivy2/jars/com.google.auto.value_auto-value-1.10.1.jar,file:///home/zzfz/.ivy2/jars/javax.annotation_javax.annotation-api-1.3.2.jar,file:///home/zzfz/.ivy2/jars/commons-logging_commons-logging-1.2.jar,file:///home/zzfz/.ivy2/jars/com.google.cloud_google-cloud-core-http-2.12.0.jar,file:///home/zzfz/.ivy2/jars/com.google.http-client_google-http-client-appengine-1.43.0.jar,file:///home/zzfz/.ivy2/jars/com.google.api_gax-httpjson-0.108.2.jar,file:///home/zzfz/.ivy2/jars/com.google.cloud_google-cloud-core-grpc-2.12.0.jar,file:///home/zzfz/.ivy2/jars/io.grpc_grpc-alts-1.53.0.jar,file:///home/zzfz/.ivy2/jars/io.grpc_grpc-grpclb-1.53.0.jar,file:///home/zzfz/.ivy2/jars/org.conscrypt_conscrypt-openjdk-uber-2.5.2.jar,file:///home/zzfz/.ivy2/jars/io.grpc_grpc-auth-1.53.0.jar,file:///home/zzfz/.ivy2/jars/io.grpc_grpc-protobuf-1.53.0.jar,file:///home/zzfz/.ivy2/jars/io.grpc_grpc-protobuf-lite-1.53.0.jar,file:///home/zzfz/.ivy2/jars/io.grpc_grpc-core-1.53.0.jar,file:///home/zzfz/.ivy2/jars/com.google.api_gax-2.23.2.jar,file:///home/zzfz/.ivy2/jars/com.google.api_gax-grpc-2.23.2.jar,file:///home/zzfz/.ivy2/jars/com.google.auth_google-auth-library-credentials-1.16.0.jar,file:///home/zzfz/.ivy2/jars/com.google.auth_google-auth-library-oauth2-http-1.16.0.jar,file:///home/zzfz/.ivy2/jars/com.google.api_api-common-2.6.2.jar,file:///home/zzfz/.ivy2/jars/io.opencensus_opencensus-api-0.31.1.jar,file:///home/zzfz/.ivy2/jars/com.google.api.grpc_proto-google-iam-v1-1.9.2.jar,file:///home/zzfz/.ivy2/jars/com.google.protobuf_protobuf-java-3.21.12.jar,file:///home/zzfz/.ivy2/jars/com.google.protobuf_protobuf-java-util-3.21.12.jar,file:///home/zzfz/.ivy2/jars/com.google.api.grpc_proto-google-common-protos-2.14.2.jar,file:///home/zzfz/.ivy2/jars/org.threeten_threetenbp-1.6.5.jar,file:///home/zzfz/.ivy2/jars/com.google.api.grpc_proto-google-cloud-storage-v2-2.20.1-alpha.jar,file:///home/zzfz/.ivy2/jars/com.google.api.grpc_grpc-google-cloud-storage-v2-2.20.1-alpha.jar,file:///home/zzfz/.ivy2/jars/com.google.api.grpc_gapic-google-cloud-storage-v2-2.20.1-alpha.jar,file:///home/zzfz/.ivy2/jars/com.fasterxml.jackson.core_jackson-core-2.14.2.jar,file:///home/zzfz/.ivy2/jars/com.google.code.findbugs_jsr305-3.0.2.jar,file:///home/zzfz/.ivy2/jars/io.grpc_grpc-api-1.53.0.jar,file:///home/zzfz/.ivy2/jars/io.grpc_grpc-stub-1.53.0.jar,file:///home/zzfz/.ivy2/jars/org.checkerframework_checker-qual-3.31.0.jar,file:///home/zzfz/.ivy2/jars/io.perfmark_perfmark-api-0.26.0.jar,file:///home/zzfz/.ivy2/jars/com.google.android_annotations-4.1.1.4.jar,file:///home/zzfz/.ivy2/jars/org.codehaus.mojo_animal-sniffer-annotations-1.22.jar,file:///home/zzfz/.ivy2/jars/io.opencensus_opencensus-proto-0.2.0.jar,file:///home/zzfz/.ivy2/jars/io.grpc_grpc-services-1.53.0.jar,file:///home/zzfz/.ivy2/jars/com.google.re2j_re2j-1.6.jar,file:///home/zzfz/.ivy2/jars/io.grpc_grpc-netty-shaded-1.53.0.jar,file:///home/zzfz/.ivy2/jars/io.grpc_grpc-googleapis-1.53.0.jar,file:///home/zzfz/.ivy2/jars/io.grpc_grpc-xds-1.53.0.jar,file:///home/zzfz/.ivy2/jars/dk.brics.automaton_automaton-1.11-8.jar')\n",
      "('spark.rdd.compress', 'True')\n",
      "('spark.app.initial.jar.urls', 'spark://172.29.117.66:39233/jars/com.google.http-client_google-http-client-apache-v2-1.43.0.jar,spark://172.29.117.66:39233/jars/com.google.auth_google-auth-library-credentials-1.16.0.jar,spark://172.29.117.66:39233/jars/com.google.api.grpc_proto-google-iam-v1-1.9.2.jar,spark://172.29.117.66:39233/jars/com.typesafe_config-1.4.2.jar,spark://172.29.117.66:39233/jars/io.opencensus_opencensus-api-0.31.1.jar,spark://172.29.117.66:39233/jars/com.fasterxml.jackson.core_jackson-core-2.14.2.jar,spark://172.29.117.66:39233/jars/com.google.j2objc_j2objc-annotations-1.3.jar,spark://172.29.117.66:39233/jars/io.grpc_grpc-grpclb-1.53.0.jar,spark://172.29.117.66:39233/jars/io.grpc_grpc-protobuf-1.53.0.jar,spark://172.29.117.66:39233/jars/com.google.cloud_google-cloud-core-2.12.0.jar,spark://172.29.117.66:39233/jars/com.google.http-client_google-http-client-appengine-1.43.0.jar,spark://172.29.117.66:39233/jars/io.grpc_grpc-stub-1.53.0.jar,spark://172.29.117.66:39233/jars/com.google.http-client_google-http-client-jackson2-1.43.0.jar,spark://172.29.117.66:39233/jars/io.grpc_grpc-services-1.53.0.jar,spark://172.29.117.66:39233/jars/com.github.universal-automata_liblevenshtein-3.0.0.jar,spark://172.29.117.66:39233/jars/com.google.api.grpc_proto-google-common-protos-2.14.2.jar,spark://172.29.117.66:39233/jars/javax.annotation_javax.annotation-api-1.3.2.jar,spark://172.29.117.66:39233/jars/org.conscrypt_conscrypt-openjdk-uber-2.5.2.jar,spark://172.29.117.66:39233/jars/com.amazonaws_aws-java-sdk-bundle-1.11.828.jar,spark://172.29.117.66:39233/jars/com.google.guava_listenablefuture-9999.0-empty-to-avoid-conflict-with-guava.jar,spark://172.29.117.66:39233/jars/com.google.http-client_google-http-client-gson-1.43.0.jar,spark://172.29.117.66:39233/jars/io.grpc_grpc-xds-1.53.0.jar,spark://172.29.117.66:39233/jars/org.threeten_threetenbp-1.6.5.jar,spark://172.29.117.66:39233/jars/commons-logging_commons-logging-1.2.jar,spark://172.29.117.66:39233/jars/io.grpc_grpc-core-1.53.0.jar,spark://172.29.117.66:39233/jars/io.grpc_grpc-auth-1.53.0.jar,spark://172.29.117.66:39233/jars/com.google.auto.value_auto-value-annotations-1.10.1.jar,spark://172.29.117.66:39233/jars/com.google.api-client_google-api-client-2.2.0.jar,spark://172.29.117.66:39233/jars/io.grpc_grpc-protobuf-lite-1.53.0.jar,spark://172.29.117.66:39233/jars/com.google.cloud_google-cloud-core-grpc-2.12.0.jar,spark://172.29.117.66:39233/jars/io.grpc_grpc-googleapis-1.53.0.jar,spark://172.29.117.66:39233/jars/io.opencensus_opencensus-proto-0.2.0.jar,spark://172.29.117.66:39233/jars/com.google.code.gson_gson-2.10.1.jar,spark://172.29.117.66:39233/jars/com.google.code.findbugs_jsr305-3.0.2.jar,spark://172.29.117.66:39233/jars/org.codehaus.mojo_animal-sniffer-annotations-1.22.jar,spark://172.29.117.66:39233/jars/com.google.guava_failureaccess-1.0.1.jar,spark://172.29.117.66:39233/jars/io.opencensus_opencensus-contrib-http-util-0.31.1.jar,spark://172.29.117.66:39233/jars/com.microsoft.onnxruntime_onnxruntime-1.16.3.jar,spark://172.29.117.66:39233/jars/com.google.auto.value_auto-value-1.10.1.jar,spark://172.29.117.66:39233/jars/io.grpc_grpc-netty-shaded-1.53.0.jar,spark://172.29.117.66:39233/jars/it.unimi.dsi_fastutil-7.0.12.jar,spark://172.29.117.66:39233/jars/com.google.cloud_google-cloud-core-http-2.12.0.jar,spark://172.29.117.66:39233/jars/com.google.re2j_re2j-1.6.jar,spark://172.29.117.66:39233/jars/commons-codec_commons-codec-1.15.jar,spark://172.29.117.66:39233/jars/com.google.protobuf_protobuf-java-3.21.12.jar,spark://172.29.117.66:39233/jars/com.google.api_gax-httpjson-0.108.2.jar,spark://172.29.117.66:39233/jars/com.google.auth_google-auth-library-oauth2-http-1.16.0.jar,spark://172.29.117.66:39233/jars/io.grpc_grpc-context-1.53.0.jar,spark://172.29.117.66:39233/jars/com.navigamez_greex-1.0.jar,spark://172.29.117.66:39233/jars/com.johnsnowlabs.nlp_spark-nlp_2.12-5.2.0.jar,spark://172.29.117.66:39233/jars/com.google.errorprone_error_prone_annotations-2.18.0.jar,spark://172.29.117.66:39233/jars/com.google.cloud_google-cloud-storage-2.20.1.jar,spark://172.29.117.66:39233/jars/io.grpc_grpc-alts-1.53.0.jar,spark://172.29.117.66:39233/jars/com.johnsnowlabs.nlp_tensorflow-cpu_2.12-0.4.4.jar,spark://172.29.117.66:39233/jars/com.google.api.grpc_proto-google-cloud-storage-v2-2.20.1-alpha.jar,spark://172.29.117.66:39233/jars/org.rocksdb_rocksdbjni-6.29.5.jar,spark://172.29.117.66:39233/jars/com.google.api_api-common-2.6.2.jar,spark://172.29.117.66:39233/jars/io.grpc_grpc-api-1.53.0.jar,spark://172.29.117.66:39233/jars/org.projectlombok_lombok-1.16.8.jar,spark://172.29.117.66:39233/jars/com.google.protobuf_protobuf-java-util-3.21.12.jar,spark://172.29.117.66:39233/jars/com.google.http-client_google-http-client-1.43.0.jar,spark://172.29.117.66:39233/jars/dk.brics.automaton_automaton-1.11-8.jar,spark://172.29.117.66:39233/jars/com.google.api_gax-grpc-2.23.2.jar,spark://172.29.117.66:39233/jars/com.google.guava_guava-31.1-jre.jar,spark://172.29.117.66:39233/jars/com.google.oauth-client_google-oauth-client-1.34.1.jar,spark://172.29.117.66:39233/jars/com.google.api_gax-2.23.2.jar,spark://172.29.117.66:39233/jars/com.google.android_annotations-4.1.1.4.jar,spark://172.29.117.66:39233/jars/org.checkerframework_checker-qual-3.31.0.jar,spark://172.29.117.66:39233/jars/com.google.api.grpc_grpc-google-cloud-storage-v2-2.20.1-alpha.jar,spark://172.29.117.66:39233/jars/com.google.api.grpc_gapic-google-cloud-storage-v2-2.20.1-alpha.jar,spark://172.29.117.66:39233/jars/com.google.apis_google-api-services-storage-v1-rev20220705-2.0.0.jar,spark://172.29.117.66:39233/jars/io.perfmark_perfmark-api-0.26.0.jar')\n",
      "('spark.driver.host', '172.29.117.66')\n",
      "('spark.executor.extraJavaOptions', '-Djava.net.preferIPv6Addresses=false -XX:+IgnoreUnrecognizedVMOptions --add-opens=java.base/java.lang=ALL-UNNAMED --add-opens=java.base/java.lang.invoke=ALL-UNNAMED --add-opens=java.base/java.lang.reflect=ALL-UNNAMED --add-opens=java.base/java.io=ALL-UNNAMED --add-opens=java.base/java.net=ALL-UNNAMED --add-opens=java.base/java.nio=ALL-UNNAMED --add-opens=java.base/java.util=ALL-UNNAMED --add-opens=java.base/java.util.concurrent=ALL-UNNAMED --add-opens=java.base/java.util.concurrent.atomic=ALL-UNNAMED --add-opens=java.base/jdk.internal.ref=ALL-UNNAMED --add-opens=java.base/sun.nio.ch=ALL-UNNAMED --add-opens=java.base/sun.nio.cs=ALL-UNNAMED --add-opens=java.base/sun.security.action=ALL-UNNAMED --add-opens=java.base/sun.util.calendar=ALL-UNNAMED --add-opens=java.security.jgss/sun.security.krb5=ALL-UNNAMED -Djdk.reflect.useDirectMethodHandle=false')\n",
      "('spark.serializer.objectStreamReset', '100')\n",
      "('spark.driver.maxResultSize', '0')\n",
      "('spark.app.startTime', '1704233420534')\n",
      "('spark.master', 'local[*]')\n",
      "('spark.submit.pyFiles', '/home/zzfz/.ivy2/jars/com.johnsnowlabs.nlp_spark-nlp_2.12-5.2.0.jar,/home/zzfz/.ivy2/jars/com.typesafe_config-1.4.2.jar,/home/zzfz/.ivy2/jars/org.rocksdb_rocksdbjni-6.29.5.jar,/home/zzfz/.ivy2/jars/com.amazonaws_aws-java-sdk-bundle-1.11.828.jar,/home/zzfz/.ivy2/jars/com.github.universal-automata_liblevenshtein-3.0.0.jar,/home/zzfz/.ivy2/jars/com.google.cloud_google-cloud-storage-2.20.1.jar,/home/zzfz/.ivy2/jars/com.navigamez_greex-1.0.jar,/home/zzfz/.ivy2/jars/com.johnsnowlabs.nlp_tensorflow-cpu_2.12-0.4.4.jar,/home/zzfz/.ivy2/jars/com.microsoft.onnxruntime_onnxruntime-1.16.3.jar,/home/zzfz/.ivy2/jars/it.unimi.dsi_fastutil-7.0.12.jar,/home/zzfz/.ivy2/jars/org.projectlombok_lombok-1.16.8.jar,/home/zzfz/.ivy2/jars/com.google.guava_guava-31.1-jre.jar,/home/zzfz/.ivy2/jars/com.google.guava_failureaccess-1.0.1.jar,/home/zzfz/.ivy2/jars/com.google.guava_listenablefuture-9999.0-empty-to-avoid-conflict-with-guava.jar,/home/zzfz/.ivy2/jars/com.google.errorprone_error_prone_annotations-2.18.0.jar,/home/zzfz/.ivy2/jars/com.google.j2objc_j2objc-annotations-1.3.jar,/home/zzfz/.ivy2/jars/com.google.http-client_google-http-client-1.43.0.jar,/home/zzfz/.ivy2/jars/io.opencensus_opencensus-contrib-http-util-0.31.1.jar,/home/zzfz/.ivy2/jars/com.google.http-client_google-http-client-jackson2-1.43.0.jar,/home/zzfz/.ivy2/jars/com.google.http-client_google-http-client-gson-1.43.0.jar,/home/zzfz/.ivy2/jars/com.google.api-client_google-api-client-2.2.0.jar,/home/zzfz/.ivy2/jars/commons-codec_commons-codec-1.15.jar,/home/zzfz/.ivy2/jars/com.google.oauth-client_google-oauth-client-1.34.1.jar,/home/zzfz/.ivy2/jars/com.google.http-client_google-http-client-apache-v2-1.43.0.jar,/home/zzfz/.ivy2/jars/com.google.apis_google-api-services-storage-v1-rev20220705-2.0.0.jar,/home/zzfz/.ivy2/jars/com.google.code.gson_gson-2.10.1.jar,/home/zzfz/.ivy2/jars/com.google.cloud_google-cloud-core-2.12.0.jar,/home/zzfz/.ivy2/jars/io.grpc_grpc-context-1.53.0.jar,/home/zzfz/.ivy2/jars/com.google.auto.value_auto-value-annotations-1.10.1.jar,/home/zzfz/.ivy2/jars/com.google.auto.value_auto-value-1.10.1.jar,/home/zzfz/.ivy2/jars/javax.annotation_javax.annotation-api-1.3.2.jar,/home/zzfz/.ivy2/jars/commons-logging_commons-logging-1.2.jar,/home/zzfz/.ivy2/jars/com.google.cloud_google-cloud-core-http-2.12.0.jar,/home/zzfz/.ivy2/jars/com.google.http-client_google-http-client-appengine-1.43.0.jar,/home/zzfz/.ivy2/jars/com.google.api_gax-httpjson-0.108.2.jar,/home/zzfz/.ivy2/jars/com.google.cloud_google-cloud-core-grpc-2.12.0.jar,/home/zzfz/.ivy2/jars/io.grpc_grpc-alts-1.53.0.jar,/home/zzfz/.ivy2/jars/io.grpc_grpc-grpclb-1.53.0.jar,/home/zzfz/.ivy2/jars/org.conscrypt_conscrypt-openjdk-uber-2.5.2.jar,/home/zzfz/.ivy2/jars/io.grpc_grpc-auth-1.53.0.jar,/home/zzfz/.ivy2/jars/io.grpc_grpc-protobuf-1.53.0.jar,/home/zzfz/.ivy2/jars/io.grpc_grpc-protobuf-lite-1.53.0.jar,/home/zzfz/.ivy2/jars/io.grpc_grpc-core-1.53.0.jar,/home/zzfz/.ivy2/jars/com.google.api_gax-2.23.2.jar,/home/zzfz/.ivy2/jars/com.google.api_gax-grpc-2.23.2.jar,/home/zzfz/.ivy2/jars/com.google.auth_google-auth-library-credentials-1.16.0.jar,/home/zzfz/.ivy2/jars/com.google.auth_google-auth-library-oauth2-http-1.16.0.jar,/home/zzfz/.ivy2/jars/com.google.api_api-common-2.6.2.jar,/home/zzfz/.ivy2/jars/io.opencensus_opencensus-api-0.31.1.jar,/home/zzfz/.ivy2/jars/com.google.api.grpc_proto-google-iam-v1-1.9.2.jar,/home/zzfz/.ivy2/jars/com.google.protobuf_protobuf-java-3.21.12.jar,/home/zzfz/.ivy2/jars/com.google.protobuf_protobuf-java-util-3.21.12.jar,/home/zzfz/.ivy2/jars/com.google.api.grpc_proto-google-common-protos-2.14.2.jar,/home/zzfz/.ivy2/jars/org.threeten_threetenbp-1.6.5.jar,/home/zzfz/.ivy2/jars/com.google.api.grpc_proto-google-cloud-storage-v2-2.20.1-alpha.jar,/home/zzfz/.ivy2/jars/com.google.api.grpc_grpc-google-cloud-storage-v2-2.20.1-alpha.jar,/home/zzfz/.ivy2/jars/com.google.api.grpc_gapic-google-cloud-storage-v2-2.20.1-alpha.jar,/home/zzfz/.ivy2/jars/com.fasterxml.jackson.core_jackson-core-2.14.2.jar,/home/zzfz/.ivy2/jars/com.google.code.findbugs_jsr305-3.0.2.jar,/home/zzfz/.ivy2/jars/io.grpc_grpc-api-1.53.0.jar,/home/zzfz/.ivy2/jars/io.grpc_grpc-stub-1.53.0.jar,/home/zzfz/.ivy2/jars/org.checkerframework_checker-qual-3.31.0.jar,/home/zzfz/.ivy2/jars/io.perfmark_perfmark-api-0.26.0.jar,/home/zzfz/.ivy2/jars/com.google.android_annotations-4.1.1.4.jar,/home/zzfz/.ivy2/jars/org.codehaus.mojo_animal-sniffer-annotations-1.22.jar,/home/zzfz/.ivy2/jars/io.opencensus_opencensus-proto-0.2.0.jar,/home/zzfz/.ivy2/jars/io.grpc_grpc-services-1.53.0.jar,/home/zzfz/.ivy2/jars/com.google.re2j_re2j-1.6.jar,/home/zzfz/.ivy2/jars/io.grpc_grpc-netty-shaded-1.53.0.jar,/home/zzfz/.ivy2/jars/io.grpc_grpc-googleapis-1.53.0.jar,/home/zzfz/.ivy2/jars/io.grpc_grpc-xds-1.53.0.jar,/home/zzfz/.ivy2/jars/dk.brics.automaton_automaton-1.11-8.jar')\n",
      "('spark.submit.deployMode', 'client')\n",
      "('spark.ui.showConsoleProgress', 'true')\n"
     ]
    }
   ],
   "source": [
    "# conf = (\n",
    "#     SparkConf()\n",
    "#     .setMaster(\"local[*]\")\n",
    "#     .set(\"spark.local.dir\", \"/home/zzfz/spark-temp\")\n",
    "#     .set(\"spark.driver.memory\", \"6g\")\n",
    "#     .set(\"spark.executor.memory\", \"12g\")\n",
    "#     .set(\"spark.driver.maxResultSize\", \"10g\")\n",
    "#     .set(\"spark.pyspark.python\", \"/home/zzfz/anaconda3/envs/BigData/bin/python\")\n",
    "#     .set(\"spark.pyspark.driver.python\", \"/home/zzfz/anaconda3/envs/BigData/bin/python\")\n",
    "# )\n",
    "\n",
    "# spark = (\n",
    "#     SparkSession.builder.appName(\"PySpark Hadoop Integration\")\n",
    "#     .config(conf=conf)\n",
    "#     .getOrCreate()\n",
    "# )\n",
    "\n",
    "spark = sparknlp.start()\n",
    "\n",
    "sc = spark.sparkContext\n",
    "\n",
    "for item in sc.getConf().getAll():\n",
    "    print(item)"
   ]
  },
  {
   "cell_type": "code",
   "execution_count": 3,
   "metadata": {},
   "outputs": [
    {
     "name": "stderr",
     "output_type": "stream",
     "text": [
      "                                                                                \r"
     ]
    },
    {
     "name": "stdout",
     "output_type": "stream",
     "text": [
      "+-----------+-----------+--------------+----------+--------------+--------------------+----------------+-----------+-------------+-----------+----+-----------------+--------------------+--------------------+-----------+\n",
      "|marketplace|customer_id|     review_id|product_id|product_parent|       product_title|product_category|star_rating|helpful_votes|total_votes|vine|verified_purchase|     review_headline|         review_body|review_date|\n",
      "+-----------+-----------+--------------+----------+--------------+--------------------+----------------+-----------+-------------+-----------+----+-----------------+--------------------+--------------------+-----------+\n",
      "|         US|   32158956|R1KKOXHNI8MSXU|B01KL6O72Y|      24485154|Easy Tool Stainle...|         Apparel|          4|            0|          0|   N|                Y|★ THESE REALLY DO...|These Really Do W...| 2013-01-14|\n",
      "|         US|    2714559|R26SP2OPDK4HT7|B01ID3ZS5W|     363128556|V28 Women Cowl Ne...|         Apparel|          5|            1|          2|   N|                Y|Favorite for wint...|I love this dress...| 2014-03-04|\n",
      "|         US|   12608825| RWQEDYAX373I1|B01I497BGY|     811958549|James Fiallo Men'...|         Apparel|          5|            0|          0|   N|                Y|Great Socks for t...|Nice socks, great...| 2015-07-12|\n",
      "|         US|   25482800|R231YI7R4GPF6J|B01HDXFZK6|     692205728|Belfry Gangster 1...|         Apparel|          5|            0|          0|   N|                Y|          Slick hat!|I bought this for...| 2015-06-03|\n",
      "|         US|    9310286|R3KO3W45DD0L1K|B01G6MBEBY|     431150422|JAEDEN Women's Be...|         Apparel|          5|            0|          0|   N|                Y|I would do it again!|Perfect dress and...| 2015-06-12|\n",
      "|         US|   26631939|R1C4QH63NFL5NJ|B01FWRXN0Y|     366144407|Levi's Boys' 514 ...|         Apparel|          5|            0|          0|   N|                Y|          Five Stars|Excellent for my ...| 2014-04-22|\n",
      "|         US|   48785098|R2GP65O1U9N7BP|B01EXNH1HE|     786052021|Minimalist Wallet...|         Apparel|          5|            0|          0|   N|                Y|            Love it!|Raw is the only w...| 2015-07-28|\n",
      "|         US|   39548589|R3O29CT5MQQ3XQ|B01E7OL09O|     108920964|Harriton Men's Ba...|         Apparel|          4|            0|          0|   N|                Y|         Three Stars|        A bit large.| 2015-07-10|\n",
      "|         US|   29355866|R1ZECD2AA8QFF6|B01DXHX81O|     317132458|Jockey Women's Un...|         Apparel|          5|            0|          0|   N|                Y|          Five Stars|          Great fit!| 2015-08-09|\n",
      "|         US|   27477484|R2S79GCF6J89OA|B01DDULIJK|     110598191|Alexander Del Ros...|         Apparel|          3|            0|          0|   N|                Y|    Not my favorite.|Shirt a bit too l...| 2014-05-24|\n",
      "|         US|   17685865|R1CBCUGNP37MPK|B01BOKOL4A|     121408017|Jockey Women's Un...|         Apparel|          5|            0|          0|   N|                Y|The Jockey Women'...|The Jockey Women'...| 2015-06-10|\n",
      "|         US|   19787539|R3NU4WUR5ZNV1V|B01B3Q4Q0O|     134506082|Bali Passion For ...|         Apparel|          5|            0|          0|   N|                Y|          Five Stars|cup size is just ...| 2013-09-06|\n",
      "|         US|   44196725|R32EPCJ3XF8LGE|B01ADDSL9U|     747539045|Lilyette Women's ...|         Apparel|          5|            0|          0|   N|                Y|          Five Stars|          Perfect...| 2014-11-17|\n",
      "|         US|   45510794|R1XIBC6WQBW31M|B019P1X5XI|     696379847|Vanity Fair Women...|         Apparel|          5|            0|          0|   N|                Y|best ever4 for me...|best  ever4 for m...| 2013-05-12|\n",
      "|         US|   42025740|R1P11MVDZ65LMH|B019MDXIXG|     387286513|Warner's Women's ...|         Apparel|          5|            0|          0|   N|                Y|          Five Stars|          Great fit.| 2014-02-14|\n",
      "|         US|   27097189|R1OJA3DJL0VDDK|B019438FEG|     764190574|Columbia Women's ...|         Apparel|          5|            0|          0|   N|                Y|          Five Stars|I have this Colum...| 2014-10-20|\n",
      "|         US|   13808904|R1THWA5YRJLOOF|B0178HGNIA|     816266887|Robes King RK Cla...|         Apparel|          4|            0|          0|   N|                Y|          Four Stars|My husband found ...| 2015-07-05|\n",
      "|         US|   30225894| R738LCNRSJVXP|B016VIU0QI|     323924698|VIV Collection Be...|         Apparel|          5|            6|          7|   N|                Y|   Awesome leggings!|Awesome leggings!...| 2015-07-29|\n",
      "|         US|   45223824|R1N3Z13931J3O9|B016PUU3VO|     893588059|Fruit of the Loom...|         Apparel|          2|            0|          0|   N|                Y|Sizes not correct...|I ordered the sam...| 2015-01-01|\n",
      "|         US|   22300783|R1LBNTP7E8N89Z|B016AQNDM4|     917361125|Jockey Scrubs Wom...|         Apparel|          1|            0|          0|   N|                Y|            One Star| not exact in sizing| 2015-02-12|\n",
      "+-----------+-----------+--------------+----------+--------------+--------------------+----------------+-----------+-------------+-----------+----+-----------------+--------------------+--------------------+-----------+\n",
      "only showing top 20 rows\n",
      "\n"
     ]
    }
   ],
   "source": [
    "df = (\n",
    "    spark.read.option(\"delimiter\", \"\\t\")\n",
    "    .option(\"header\", \"true\")\n",
    "    .csv(\"hdfs://localhost:9000/datasets/Amazon_Reviews/*.tsv\")\n",
    ")\n",
    "\n",
    "df.show()"
   ]
  },
  {
   "cell_type": "code",
   "execution_count": 4,
   "metadata": {},
   "outputs": [
    {
     "name": "stderr",
     "output_type": "stream",
     "text": [
      "[Stage 7:======================================================>(410 + 1) / 411]\r"
     ]
    },
    {
     "name": "stdout",
     "output_type": "stream",
     "text": [
      "+-----------+-----------+---------+----------+--------------+-------------+----------------+-----------+-------------+-----------+----+-----------------+---------------+-----------+-----------+\n",
      "|marketplace|customer_id|review_id|product_id|product_parent|product_title|product_category|star_rating|helpful_votes|total_votes|vine|verified_purchase|review_headline|review_body|review_date|\n",
      "+-----------+-----------+---------+----------+--------------+-------------+----------------+-----------+-------------+-----------+----+-----------------+---------------+-----------+-----------+\n",
      "|          0|          0|        0|         0|             0|            0|            1753|       1787|         1794|       1794|1794|             1794|           2044|      12438|       8243|\n",
      "+-----------+-----------+---------+----------+--------------+-------------+----------------+-----------+-------------+-----------+----+-----------------+---------------+-----------+-----------+\n",
      "\n"
     ]
    },
    {
     "name": "stderr",
     "output_type": "stream",
     "text": [
      "                                                                                \r"
     ]
    }
   ],
   "source": [
    "from pyspark.sql.functions import col, count, when\n",
    "\n",
    "# Calculate the total number of rows\n",
    "total_rows = df.count()\n",
    "\n",
    "# Calculate the ratio of nulls for each column\n",
    "null_rows = df.select([(count(when(col(c).isNull(), c))).alias(c) for c in df.columns])\n",
    "\n",
    "# Show the null ratios\n",
    "null_rows.show()"
   ]
  },
  {
   "cell_type": "code",
   "execution_count": 5,
   "metadata": {},
   "outputs": [],
   "source": [
    "# Data Cleaning\n",
    "df = df.na.drop()"
   ]
  },
  {
   "cell_type": "code",
   "execution_count": 6,
   "metadata": {},
   "outputs": [],
   "source": [
    "from pyspark.sql.functions import col\n",
    "from pyspark.sql.types import IntegerType\n",
    "\n",
    "# Convert columns to integer\n",
    "df = df.withColumn(\"star_rating\", col(\"star_rating\").cast(IntegerType()))\n",
    "df = df.withColumn(\"helpful_votes\", col(\"helpful_votes\").cast(IntegerType()))\n",
    "df = df.withColumn(\"total_votes\", col(\"total_votes\").cast(IntegerType()))\n",
    "\n",
    "# Convert 'Y'/'N' to True/False for verified_purchase\n",
    "df = df.withColumn(\n",
    "    \"verified_purchase\", when(col(\"verified_purchase\") == \"Y\", True).otherwise(False)\n",
    ")\n",
    "\n",
    "# Convert 'Y'/'N' to True/False for vine\n",
    "df = df.withColumn(\"vine\", when(col(\"vine\") == \"Y\", True).otherwise(False))"
   ]
  },
  {
   "cell_type": "code",
   "execution_count": 7,
   "metadata": {},
   "outputs": [
    {
     "name": "stdout",
     "output_type": "stream",
     "text": [
      "root\n",
      " |-- marketplace: string (nullable = true)\n",
      " |-- customer_id: string (nullable = true)\n",
      " |-- review_id: string (nullable = true)\n",
      " |-- product_id: string (nullable = true)\n",
      " |-- product_parent: string (nullable = true)\n",
      " |-- product_title: string (nullable = true)\n",
      " |-- product_category: string (nullable = true)\n",
      " |-- star_rating: integer (nullable = true)\n",
      " |-- helpful_votes: integer (nullable = true)\n",
      " |-- total_votes: integer (nullable = true)\n",
      " |-- vine: boolean (nullable = false)\n",
      " |-- verified_purchase: boolean (nullable = false)\n",
      " |-- review_headline: string (nullable = true)\n",
      " |-- review_body: string (nullable = true)\n",
      " |-- review_date: string (nullable = true)\n",
      "\n"
     ]
    }
   ],
   "source": [
    "df.printSchema()"
   ]
  },
  {
   "cell_type": "code",
   "execution_count": 8,
   "metadata": {},
   "outputs": [],
   "source": [
    "# df.describe().show()"
   ]
  },
  {
   "cell_type": "code",
   "execution_count": 9,
   "metadata": {},
   "outputs": [
    {
     "name": "stderr",
     "output_type": "stream",
     "text": [
      "[Stage 11:>                                                         (0 + 4) / 4]\r"
     ]
    },
    {
     "name": "stdout",
     "output_type": "stream",
     "text": [
      "+-----------+-----------+--------------+----------+--------------+--------------------+----------------+-----------+-------------+-----------+-----+-----------------+--------------------+--------------------+-----------+\n",
      "|marketplace|customer_id|     review_id|product_id|product_parent|       product_title|product_category|star_rating|helpful_votes|total_votes| vine|verified_purchase|     review_headline|         review_body|review_date|\n",
      "+-----------+-----------+--------------+----------+--------------+--------------------+----------------+-----------+-------------+-----------+-----+-----------------+--------------------+--------------------+-----------+\n",
      "|         US|   42925074|R23DAOA3M7YR6C|B00WAIUOEC|     613426562|Swim Sexy Women's...|         Apparel|          4|            0|          0|false|             true|          Four Stars|just what i thoug...| 2015-06-25|\n",
      "|         US|   24053180|R3J26FX9RDO2WS|B00VIQMMK6|     125880002|Sakkas Desert Sun...|         Apparel|          4|            0|          0|false|             true|          Four Stars|Colors are beauti...| 2015-08-05|\n",
      "|         US|   36983908|R3FMAWPITXY8L1|B00SH6WAMU|     715349081|Irish Pride - Gif...|         Apparel|          5|            0|          0|false|             true|          Five Stars|Perfect! Gave as ...| 2015-05-13|\n",
      "|         US|   15607276|R1LMD3QD1ILGIL|B00PIQOKBQ|     658868749|Elisabeth Big Gir...|         Apparel|          4|            0|          0|false|             true|but otherwise sat...|The ruffles start...| 2015-07-10|\n",
      "|         US|   27372052|R1R82YM7IOUK48|B00OOELCY6|     696799928|ZNU Men's Winter ...|         Apparel|          1|            0|          0|false|             true|Not recommended t...|Not recommended  ...| 2015-02-04|\n",
      "|         US|   39024909|R2U8F3IQJGJ6A7|B00OLPHGIO|     448744169|Dollie & Me Big G...|         Apparel|          2|            1|          1|false|             true|I ordered the 6X ...|I ordered the 6X ...| 2015-02-24|\n",
      "|         US|    1437726|R2RFURMCMR4Y1R|B00NV6FA32|     556760362|Darin Imlay Women...|         Apparel|          2|            1|          1|false|            false|           Two Stars|They're Two Diffe...| 2015-08-25|\n",
      "|         US|    4923911|R3MR8HC4EIEOJL|B00MFZN528|     303697427|Polo Ralph Lauren...|         Apparel|          1|            0|          0|false|             true|        Fake product|It appears to be ...| 2014-12-30|\n",
      "|         US|   15080654|R1F5IJNG4VCJGM|B00MDZPICK|     194617078|California Republ...|         Apparel|          5|            0|          0|false|             true|          Five Stars|       Thank you ...| 2015-04-13|\n",
      "|         US|   30861329|R2HCN35AVETYGC|B00MB6HH02|     654673867|BORUIDESI Women's...|         Apparel|          1|            0|          0|false|             true|        disappointed|absolutely loved ...| 2015-06-08|\n",
      "|         US|    2405635|R1HDWNZ7YMT851|B00M4FUV9O|     408550614|Soul Eater Anime ...|         Apparel|          1|            3|          3|false|             true|Fits like a adult...|Xxl, perhaps in y...| 2015-04-07|\n",
      "|         US|   30502895|R1514G4EESF1VZ|B00KRQJXWI|     491143465|TowelSelections M...|         Apparel|          5|            0|          0|false|             true|             Perfect|I have ordered it...| 2014-06-29|\n",
      "|         US|   30831327|R2EW0ZELPV8JIW|B00KO668PQ|     527570451|Paradox Womens Ra...|         Apparel|          5|            1|          1|false|            false|Rainsuit for ever...|Haven't had to us...| 2014-10-17|\n",
      "|         US|   52475785|R1BZCZP5CS2O6Y|B00KGE4B3M|     955610022|Lee Women's Moder...|         Apparel|          4|            0|          0|false|             true|Short length a li...|I really like the...| 2015-05-06|\n",
      "|         US|   22610589|R1KFZSF1VJ023P|B00JKF2F6S|     721665358|Nautica Sleepwear...|         Apparel|          3|            0|          0|false|             true|  Nice but run small|They are nice but...| 2015-04-07|\n",
      "|         US|    5313506|R2MQ734335TBK7|B00JAQ18OW|     856776741|Dry Dudz Women's ...|         Apparel|          2|            0|          0|false|             true|Garment not true ...|I buy bathing sui...| 2015-02-19|\n",
      "|         US|   12112395|R2K19BS4N9P0HA|B00JAGCEWC|     495925216|Pearl Scarf Croch...|         Apparel|          4|            0|          0|false|             true|It is all about f...|It is all about f...| 2015-05-30|\n",
      "|         US|   27230240|R1RCKXSNRQ6SRC|B00J5A0XO4|     805317367|YMI Juniors Wanna...|         Apparel|          5|            0|          0|false|             true|          Five Stars|      just perfect !| 2014-12-12|\n",
      "|         US|   21697866|R1UAHBAK0VDP0Q|B00IXNIUGC|     813740786|KMystic Women's H...|         Apparel|          5|            0|          0|false|             true|          Five Stars|I FELT SO PRETTY ...| 2014-08-21|\n",
      "|         US|   33743803| R49JLRAK6I11F|B00IVV1MMK|     209205451|Medieval Female W...|         Apparel|          4|            0|          0|false|             true|Decent look for t...|The gloves are da...| 2015-06-10|\n",
      "+-----------+-----------+--------------+----------+--------------+--------------------+----------------+-----------+-------------+-----------+-----+-----------------+--------------------+--------------------+-----------+\n",
      "only showing top 20 rows\n",
      "\n"
     ]
    },
    {
     "name": "stderr",
     "output_type": "stream",
     "text": [
      "                                                                                \r"
     ]
    }
   ],
   "source": [
    "sampled_df = df.sample(fraction=0.00001, seed=3)\n",
    "\n",
    "sampled_df.show()"
   ]
  },
  {
   "cell_type": "code",
   "execution_count": 10,
   "metadata": {},
   "outputs": [
    {
     "name": "stdout",
     "output_type": "stream",
     "text": [
      "tfhub_use download started this may take some time.\n",
      "Approximate size to download 923.7 MB\n",
      "[ | ]tfhub_use download started this may take some time.\n",
      "Approximate size to download 923.7 MB\n",
      "[ — ]Download done! Loading the resource.\n",
      "[ / ]"
     ]
    },
    {
     "name": "stderr",
     "output_type": "stream",
     "text": [
      "2024-01-02 23:11:50.359644: I external/org_tensorflow/tensorflow/core/platform/cpu_feature_guard.cc:151] This TensorFlow binary is optimized with oneAPI Deep Neural Network Library (oneDNN) to use the following CPU instructions in performance-critical operations:  AVX2 FMA\n",
      "To enable them in other operations, rebuild TensorFlow with the appropriate compiler flags.\n"
     ]
    },
    {
     "name": "stdout",
     "output_type": "stream",
     "text": [
      "[ — ]"
     ]
    },
    {
     "name": "stderr",
     "output_type": "stream",
     "text": [
      "2024-01-02 23:11:53.027601: W external/org_tensorflow/tensorflow/core/framework/cpu_allocator_impl.cc:82] Allocation of 60236800 exceeds 10% of free system memory.\n",
      "2024-01-02 23:11:53.073115: W external/org_tensorflow/tensorflow/core/framework/cpu_allocator_impl.cc:82] Allocation of 60236800 exceeds 10% of free system memory.\n",
      "2024-01-02 23:11:53.107007: W external/org_tensorflow/tensorflow/core/framework/cpu_allocator_impl.cc:82] Allocation of 60236800 exceeds 10% of free system memory.\n",
      "2024-01-02 23:11:53.136769: W external/org_tensorflow/tensorflow/core/framework/cpu_allocator_impl.cc:82] Allocation of 60236800 exceeds 10% of free system memory.\n",
      "2024-01-02 23:11:53.167323: W external/org_tensorflow/tensorflow/core/framework/cpu_allocator_impl.cc:82] Allocation of 60236800 exceeds 10% of free system memory.\n"
     ]
    },
    {
     "name": "stdout",
     "output_type": "stream",
     "text": [
      "[ \\ ]"
     ]
    },
    {
     "name": "stderr",
     "output_type": "stream",
     "text": [
      "WARNING: An illegal reflective access operation has occurred\n",
      "WARNING: Illegal reflective access by org.apache.spark.util.SizeEstimator$ (file:/home/zzfz/anaconda3/envs/BigData/lib/python3.10/site-packages/pyspark/jars/spark-core_2.12-3.4.2.jar) to field java.lang.ref.Reference.referent\n",
      "WARNING: Please consider reporting this to the maintainers of org.apache.spark.util.SizeEstimator$\n",
      "WARNING: Use --illegal-access=warn to enable warnings of further illegal reflective access operations\n",
      "WARNING: All illegal access operations will be denied in a future release\n"
     ]
    },
    {
     "name": "stdout",
     "output_type": "stream",
     "text": [
      "[OK!]\n",
      "sentimentdl_use_twitter download started this may take some time.\n",
      "Approximate size to download 11.4 MB\n",
      "[ | ]sentimentdl_use_twitter download started this may take some time.\n",
      "Approximate size to download 11.4 MB\n",
      "[ — ]Download done! Loading the resource.\n",
      "[OK!]\n",
      "tfhub_use download started this may take some time.\n",
      "Approximate size to download 923.7 MB\n",
      "[OK!]\n",
      "sentimentdl_use_twitter download started this may take some time.\n",
      "Approximate size to download 11.4 MB\n",
      "[OK!]\n"
     ]
    },
    {
     "name": "stderr",
     "output_type": "stream",
     "text": [
      "24/01/02 23:12:16 WARN package: Truncated the string representation of a plan since it was too large. This behavior can be adjusted by setting 'spark.sql.debug.maxToStringFields'.\n",
      "                                                                                \r"
     ]
    },
    {
     "name": "stdout",
     "output_type": "stream",
     "text": [
      "+--------------------------------------------------------------+----------+\n",
      "|review_headline                                               |result    |\n",
      "+--------------------------------------------------------------+----------+\n",
      "|Four Stars                                                    |[positive]|\n",
      "|Four Stars                                                    |[positive]|\n",
      "|Five Stars                                                    |[positive]|\n",
      "|but otherwise satisfied.                                      |[negative]|\n",
      "|Not recommended to buy it is cheaply                          |[negative]|\n",
      "|I ordered the 6X but the gown itself said size ...            |[negative]|\n",
      "|Two Stars                                                     |[positive]|\n",
      "|Fake product                                                  |[negative]|\n",
      "|Five Stars                                                    |[positive]|\n",
      "|disappointed                                                  |[negative]|\n",
      "|Fits like a adult medium                                      |[negative]|\n",
      "|Perfect                                                       |[positive]|\n",
      "|Rainsuit for everything!                                      |[positive]|\n",
      "|Short length a little too short.                              |[negative]|\n",
      "|Nice but run small                                            |[positive]|\n",
      "|Garment not true to size                                      |[negative]|\n",
      "|It is all about fashion and this is a great look. Light weight|[positive]|\n",
      "|Five Stars                                                    |[positive]|\n",
      "|Five Stars                                                    |[positive]|\n",
      "|Decent look for the price                                     |[negative]|\n",
      "+--------------------------------------------------------------+----------+\n",
      "only showing top 20 rows\n",
      "\n"
     ]
    },
    {
     "name": "stderr",
     "output_type": "stream",
     "text": [
      "[Stage 20:>                                                         (0 + 4) / 4]\r"
     ]
    },
    {
     "name": "stdout",
     "output_type": "stream",
     "text": [
      "+--------------------------------------------------------------------------------------------------------------------------------------------------------------------------------------------------------------------------------------------------------------------------------------------------------------------------------------------------------------------------------------------------------------------------------------------------------------------------------------------------------------------------------------------------------------------------------------------------------------------------------------------------------------------------+----------+\n",
      "|review_body                                                                                                                                                                                                                                                                                                                                                                                                                                                                                                                                                                                                                                                               |result    |\n",
      "+--------------------------------------------------------------------------------------------------------------------------------------------------------------------------------------------------------------------------------------------------------------------------------------------------------------------------------------------------------------------------------------------------------------------------------------------------------------------------------------------------------------------------------------------------------------------------------------------------------------------------------------------------------------------------+----------+\n",
      "|just what i thought it would be                                                                                                                                                                                                                                                                                                                                                                                                                                                                                                                                                                                                                                           |[negative]|\n",
      "|Colors are beautiful.                                                                                                                                                                                                                                                                                                                                                                                                                                                                                                                                                                                                                                                     |[positive]|\n",
      "|Perfect! Gave as a gift and she loved it!                                                                                                                                                                                                                                                                                                                                                                                                                                                                                                                                                                                                                                 |[positive]|\n",
      "|The ruffles start to come undone after a few washes, but otherwise satisfied.                                                                                                                                                                                                                                                                                                                                                                                                                                                                                                                                                                                             |[positive]|\n",
      "|Not recommended  to buy it is cheaply  made                                                                                                                                                                                                                                                                                                                                                                                                                                                                                                                                                                                                                               |[positive]|\n",
      "|I ordered the 6X but the gown itself said size 5 and was way to small.  Sent it back .                                                                                                                                                                                                                                                                                                                                                                                                                                                                                                                                                                                    |[negative]|\n",
      "|They're Two Different Colors !                                                                                                                                                                                                                                                                                                                                                                                                                                                                                                                                                                                                                                            |[positive]|\n",
      "|It appears to be a fake product. the threading is even coming out. It does not look or feel like a ralph lauren at all. I regret buying it because I paid so much for it. very disappointed.                                                                                                                                                                                                                                                                                                                                                                                                                                                                              |[negative]|\n",
      "|Thank you ...                                                                                                                                                                                                                                                                                                                                                                                                                                                                                                                                                                                                                                                             |[positive]|\n",
      "|absolutely loved the coat but the sizing was soooo off.  the plus size that came wouldn't fit a regular size 6                                                                                                                                                                                                                                                                                                                                                                                                                                                                                                                                                            |[negative]|\n",
      "|Xxl, perhaps in youth. Fits like a adult medium                                                                                                                                                                                                                                                                                                                                                                                                                                                                                                                                                                                                                           |[negative]|\n",
      "|I have ordered it for 12 year old son the XS size is almost perfect, the absorbency is good. The 100% cotton, definitely would recommend.                                                                                                                                                                                                                                                                                                                                                                                                                                                                                                                                 |[positive]|\n",
      "|Haven't had to use this yet but I'm sure it will come in very handy during any rainy golf day or any rainy day when I need to be outside.                                                                                                                                                                                                                                                                                                                                                                                                                                                                                                                                 |[neutral] |\n",
      "|I really like the pants but the short length is just a little too short.                                                                                                                                                                                                                                                                                                                                                                                                                                                                                                                                                                                                  |[negative]|\n",
      "|They are nice but run small. I wear nautica sleepwear all the time and love  the Capri length                                                                                                                                                                                                                                                                                                                                                                                                                                                                                                                                                                             |[positive]|\n",
      "|I buy bathing suit bottoms one size larger than what i normally wear as my backside is rather round.<br />These suit bottoms were just too big...ill fitting.                                                                                                                                                                                                                                                                                                                                                                                                                                                                                                             |[negative]|\n",
      "|It is all about fashion and this is a great look.  Light weight, not bulky.you can wear it all day and not get tired of our around your neck.                                                                                                                                                                                                                                                                                                                                                                                                                                                                                                                             |[positive]|\n",
      "|just perfect !                                                                                                                                                                                                                                                                                                                                                                                                                                                                                                                                                                                                                                                            |[positive]|\n",
      "|I FELT SO PRETTY WITH THIS PANTS ON! VERY COMFORTABLE!                                                                                                                                                                                                                                                                                                                                                                                                                                                                                                                                                                                                                    |[positive]|\n",
      "|The gloves are darker than they appear in the product picture, so there is not as much contrast with the wrappings. They are also cut out in a simple hand shape (as opposed to having the thumb a separate piece underneath like standard women's gloves would be) which makes the fit a bit awkward. But, that being said, they worked perfectly fine for the costume for which I intended them. The lacing down the side makes them easy to open up flat if you want to sew additional trim or other things to the cuff part. All in all I was happy with them. They fit my actress well--she is fairly petite--but might be a bit tight for someone with larger hands.|[negative]|\n",
      "+--------------------------------------------------------------------------------------------------------------------------------------------------------------------------------------------------------------------------------------------------------------------------------------------------------------------------------------------------------------------------------------------------------------------------------------------------------------------------------------------------------------------------------------------------------------------------------------------------------------------------------------------------------------------------+----------+\n",
      "only showing top 20 rows\n",
      "\n"
     ]
    },
    {
     "name": "stderr",
     "output_type": "stream",
     "text": [
      "                                                                                \r"
     ]
    }
   ],
   "source": [
    "from sparknlp.base import DocumentAssembler\n",
    "from sparknlp.annotator import Tokenizer, UniversalSentenceEncoder, SentimentDLModel\n",
    "from pyspark.ml import Pipeline\n",
    "\n",
    "\n",
    "def create_sentiment_pipeline(input_col):\n",
    "    # Assemble Document\n",
    "    documentAssembler = (\n",
    "        DocumentAssembler().setInputCol(input_col).setOutputCol(\"document\")\n",
    "    )\n",
    "\n",
    "    # Tokenize the document\n",
    "    tokenizer = Tokenizer().setInputCols([\"document\"]).setOutputCol(\"token\")\n",
    "\n",
    "    # Use Universal Sentence Encoder for embeddings\n",
    "    embeddings = (\n",
    "        UniversalSentenceEncoder.pretrained()\n",
    "        .setInputCols([\"document\"])\n",
    "        .setOutputCol(\"sentence_embeddings\")\n",
    "    )\n",
    "\n",
    "    # Load the pre-trained sentiment analysis model\n",
    "    sentimentModel = (\n",
    "        SentimentDLModel.pretrained(\"sentimentdl_use_twitter\", \"en\")\n",
    "        .setInputCols([\"sentence_embeddings\"])\n",
    "        .setOutputCol(\"sentiment\")\n",
    "    )\n",
    "\n",
    "    # Define the pipeline\n",
    "    pipeline = Pipeline(\n",
    "        stages=[documentAssembler, tokenizer, embeddings, sentimentModel]\n",
    "    )\n",
    "\n",
    "    return pipeline\n",
    "\n",
    "\n",
    "# Create pipelines for review_headline and review_body\n",
    "pipeline_headline = create_sentiment_pipeline(\"review_headline\")\n",
    "pipeline_body = create_sentiment_pipeline(\"review_body\")\n",
    "\n",
    "# # Fit and transform the pipelines\n",
    "pipeline_model_headline = pipeline_headline.fit(sampled_df)\n",
    "result_headline = pipeline_model_headline.transform(sampled_df)\n",
    "\n",
    "pipeline_model_body = pipeline_body.fit(sampled_df)\n",
    "result_body = pipeline_model_body.transform(sampled_df)\n",
    "\n",
    "# Fit and transform the pipelines\n",
    "# pipeline_model_headline = pipeline_headline.fit(df)\n",
    "# result_headline = pipeline_model_headline.transform(df)\n",
    "\n",
    "# pipeline_model_body = pipeline_body.fit(df)\n",
    "# result_body = pipeline_model_body.transform(df)\n",
    "\n",
    "# Display results\n",
    "result_headline.select(\"review_headline\", \"sentiment.result\").show(truncate=False)\n",
    "result_body.select(\"review_body\", \"sentiment.result\").show(truncate=False)"
   ]
  },
  {
   "cell_type": "code",
   "execution_count": 11,
   "metadata": {},
   "outputs": [],
   "source": [
    "# Extract the 'result' column and rename it for clarity\n",
    "result_headline = result_headline.select(\n",
    "    \"review_id\", col(\"sentiment.result\").alias(\"headline_sentiment\")\n",
    ")\n",
    "result_body = result_body.select(\n",
    "    \"review_id\", col(\"sentiment.result\").alias(\"body_sentiment\")\n",
    ")\n",
    "\n",
    "# Flatten the 'result' column as it's typically a list\n",
    "result_headline = result_headline.withColumn(\n",
    "    \"headline_sentiment\", col(\"headline_sentiment\").getItem(0)\n",
    ")\n",
    "result_body = result_body.withColumn(\"body_sentiment\", col(\"body_sentiment\").getItem(0))\n",
    "\n",
    "# Join the sentiment results back to the original DataFrame\n",
    "sampled_df = sampled_df.join(result_headline, \"review_id\").join(\n",
    "    result_body, \"review_id\"\n",
    ")\n",
    "# df = df.join(result_headline, \"review_id\").join(result_body, \"review_id\")"
   ]
  },
  {
   "cell_type": "code",
   "execution_count": 12,
   "metadata": {},
   "outputs": [
    {
     "name": "stderr",
     "output_type": "stream",
     "text": [
      "[Stage 24:>                                                         (0 + 4) / 4]\r"
     ]
    },
    {
     "name": "stdout",
     "output_type": "stream",
     "text": [
      "+--------------+-----------+-----------+----------+--------------+--------------------+----------------+-----------+-------------+-----------+-----+-----------------+--------------------+--------------------+-----------+------------------+--------------+\n",
      "|     review_id|marketplace|customer_id|product_id|product_parent|       product_title|product_category|star_rating|helpful_votes|total_votes| vine|verified_purchase|     review_headline|         review_body|review_date|headline_sentiment|body_sentiment|\n",
      "+--------------+-----------+-----------+----------+--------------+--------------------+----------------+-----------+-------------+-----------+-----+-----------------+--------------------+--------------------+-----------+------------------+--------------+\n",
      "|R23DAOA3M7YR6C|         US|   42925074|B00WAIUOEC|     613426562|Swim Sexy Women's...|         Apparel|          4|            0|          0|false|             true|          Four Stars|just what i thoug...| 2015-06-25|          positive|      negative|\n",
      "|R3J26FX9RDO2WS|         US|   24053180|B00VIQMMK6|     125880002|Sakkas Desert Sun...|         Apparel|          4|            0|          0|false|             true|          Four Stars|Colors are beauti...| 2015-08-05|          positive|      positive|\n",
      "|R3FMAWPITXY8L1|         US|   36983908|B00SH6WAMU|     715349081|Irish Pride - Gif...|         Apparel|          5|            0|          0|false|             true|          Five Stars|Perfect! Gave as ...| 2015-05-13|          positive|      positive|\n",
      "|R1LMD3QD1ILGIL|         US|   15607276|B00PIQOKBQ|     658868749|Elisabeth Big Gir...|         Apparel|          4|            0|          0|false|             true|but otherwise sat...|The ruffles start...| 2015-07-10|          negative|      positive|\n",
      "|R1R82YM7IOUK48|         US|   27372052|B00OOELCY6|     696799928|ZNU Men's Winter ...|         Apparel|          1|            0|          0|false|             true|Not recommended t...|Not recommended  ...| 2015-02-04|          negative|      positive|\n",
      "|R2U8F3IQJGJ6A7|         US|   39024909|B00OLPHGIO|     448744169|Dollie & Me Big G...|         Apparel|          2|            1|          1|false|             true|I ordered the 6X ...|I ordered the 6X ...| 2015-02-24|          negative|      negative|\n",
      "|R2RFURMCMR4Y1R|         US|    1437726|B00NV6FA32|     556760362|Darin Imlay Women...|         Apparel|          2|            1|          1|false|            false|           Two Stars|They're Two Diffe...| 2015-08-25|          positive|      positive|\n",
      "|R3MR8HC4EIEOJL|         US|    4923911|B00MFZN528|     303697427|Polo Ralph Lauren...|         Apparel|          1|            0|          0|false|             true|        Fake product|It appears to be ...| 2014-12-30|          negative|      negative|\n",
      "|R1F5IJNG4VCJGM|         US|   15080654|B00MDZPICK|     194617078|California Republ...|         Apparel|          5|            0|          0|false|             true|          Five Stars|       Thank you ...| 2015-04-13|          positive|      positive|\n",
      "|R2HCN35AVETYGC|         US|   30861329|B00MB6HH02|     654673867|BORUIDESI Women's...|         Apparel|          1|            0|          0|false|             true|        disappointed|absolutely loved ...| 2015-06-08|          negative|      negative|\n",
      "|R1HDWNZ7YMT851|         US|    2405635|B00M4FUV9O|     408550614|Soul Eater Anime ...|         Apparel|          1|            3|          3|false|             true|Fits like a adult...|Xxl, perhaps in y...| 2015-04-07|          negative|      negative|\n",
      "|R1514G4EESF1VZ|         US|   30502895|B00KRQJXWI|     491143465|TowelSelections M...|         Apparel|          5|            0|          0|false|             true|             Perfect|I have ordered it...| 2014-06-29|          positive|      positive|\n",
      "|R2EW0ZELPV8JIW|         US|   30831327|B00KO668PQ|     527570451|Paradox Womens Ra...|         Apparel|          5|            1|          1|false|            false|Rainsuit for ever...|Haven't had to us...| 2014-10-17|          positive|       neutral|\n",
      "|R1BZCZP5CS2O6Y|         US|   52475785|B00KGE4B3M|     955610022|Lee Women's Moder...|         Apparel|          4|            0|          0|false|             true|Short length a li...|I really like the...| 2015-05-06|          negative|      negative|\n",
      "|R1KFZSF1VJ023P|         US|   22610589|B00JKF2F6S|     721665358|Nautica Sleepwear...|         Apparel|          3|            0|          0|false|             true|  Nice but run small|They are nice but...| 2015-04-07|          positive|      positive|\n",
      "|R2MQ734335TBK7|         US|    5313506|B00JAQ18OW|     856776741|Dry Dudz Women's ...|         Apparel|          2|            0|          0|false|             true|Garment not true ...|I buy bathing sui...| 2015-02-19|          negative|      negative|\n",
      "|R2K19BS4N9P0HA|         US|   12112395|B00JAGCEWC|     495925216|Pearl Scarf Croch...|         Apparel|          4|            0|          0|false|             true|It is all about f...|It is all about f...| 2015-05-30|          positive|      positive|\n",
      "|R1RCKXSNRQ6SRC|         US|   27230240|B00J5A0XO4|     805317367|YMI Juniors Wanna...|         Apparel|          5|            0|          0|false|             true|          Five Stars|      just perfect !| 2014-12-12|          positive|      positive|\n",
      "|R1UAHBAK0VDP0Q|         US|   21697866|B00IXNIUGC|     813740786|KMystic Women's H...|         Apparel|          5|            0|          0|false|             true|          Five Stars|I FELT SO PRETTY ...| 2014-08-21|          positive|      positive|\n",
      "| R49JLRAK6I11F|         US|   33743803|B00IVV1MMK|     209205451|Medieval Female W...|         Apparel|          4|            0|          0|false|             true|Decent look for t...|The gloves are da...| 2015-06-10|          negative|      negative|\n",
      "+--------------+-----------+-----------+----------+--------------+--------------------+----------------+-----------+-------------+-----------+-----+-----------------+--------------------+--------------------+-----------+------------------+--------------+\n",
      "only showing top 20 rows\n",
      "\n"
     ]
    },
    {
     "name": "stderr",
     "output_type": "stream",
     "text": [
      "                                                                                \r"
     ]
    }
   ],
   "source": [
    "sampled_df.show()"
   ]
  },
  {
   "cell_type": "code",
   "execution_count": 15,
   "metadata": {},
   "outputs": [
    {
     "name": "stderr",
     "output_type": "stream",
     "text": [
      "                                                                                \r"
     ]
    },
    {
     "name": "stdout",
     "output_type": "stream",
     "text": [
      "+--------------+-----+\n",
      "|body_sentiment|count|\n",
      "+--------------+-----+\n",
      "|      positive|  662|\n",
      "|      negative|  424|\n",
      "|       neutral|   52|\n",
      "+--------------+-----+\n",
      "\n"
     ]
    },
    {
     "name": "stderr",
     "output_type": "stream",
     "text": [
      "[Stage 32:=====================================================>(410 + 1) / 411]\r"
     ]
    },
    {
     "name": "stdout",
     "output_type": "stream",
     "text": [
      "+------------------+-----+\n",
      "|headline_sentiment|count|\n",
      "+------------------+-----+\n",
      "|          positive|  867|\n",
      "|          negative|  246|\n",
      "|           neutral|   25|\n",
      "+------------------+-----+\n",
      "\n"
     ]
    },
    {
     "name": "stderr",
     "output_type": "stream",
     "text": [
      "                                                                                \r"
     ]
    }
   ],
   "source": [
    "# Distribution of body_sentiment\n",
    "body_sentiment_distribution = sampled_df.groupBy(\"body_sentiment\").count()\n",
    "body_sentiment_distribution.show()\n",
    "\n",
    "# Distribution of headline_sentiment\n",
    "headline_sentiment_distribution = sampled_df.groupBy(\"headline_sentiment\").count()\n",
    "headline_sentiment_distribution.show()"
   ]
  },
  {
   "cell_type": "code",
   "execution_count": 19,
   "metadata": {},
   "outputs": [
    {
     "name": "stderr",
     "output_type": "stream",
     "text": [
      "[Stage 55:=====================================================>(410 + 1) / 411]\r"
     ]
    },
    {
     "name": "stdout",
     "output_type": "stream",
     "text": [
      "+----------------------+--------------+-----+\n",
      "|product_category      |body_sentiment|count|\n",
      "+----------------------+--------------+-----+\n",
      "|Apparel               |negative      |24   |\n",
      "|Apparel               |neutral       |4    |\n",
      "|Apparel               |positive      |38   |\n",
      "|Automotive            |negative      |20   |\n",
      "|Automotive            |neutral       |1    |\n",
      "|Automotive            |positive      |15   |\n",
      "|Baby                  |negative      |7    |\n",
      "|Baby                  |positive      |12   |\n",
      "|Beauty                |negative      |28   |\n",
      "|Beauty                |neutral       |4    |\n",
      "|Beauty                |positive      |23   |\n",
      "|Books                 |negative      |10   |\n",
      "|Books                 |positive      |26   |\n",
      "|Camera                |negative      |4    |\n",
      "|Camera                |neutral       |2    |\n",
      "|Camera                |positive      |14   |\n",
      "|Digital_Ebook_Purchase|negative      |17   |\n",
      "|Digital_Ebook_Purchase|neutral       |2    |\n",
      "|Digital_Ebook_Purchase|positive      |40   |\n",
      "|Digital_Music_Purchase|negative      |2    |\n",
      "|Digital_Music_Purchase|neutral       |2    |\n",
      "|Digital_Music_Purchase|positive      |13   |\n",
      "|Digital_Software      |negative      |1    |\n",
      "|Digital_Video_Download|negative      |7    |\n",
      "|Digital_Video_Download|neutral       |2    |\n",
      "|Digital_Video_Download|positive      |45   |\n",
      "|Electronics           |negative      |18   |\n",
      "|Electronics           |neutral       |3    |\n",
      "|Electronics           |positive      |13   |\n",
      "|Furniture             |negative      |5    |\n",
      "|Furniture             |neutral       |1    |\n",
      "|Furniture             |positive      |5    |\n",
      "|Grocery               |negative      |5    |\n",
      "|Grocery               |neutral       |2    |\n",
      "|Grocery               |positive      |14   |\n",
      "|Health & Personal Care|negative      |26   |\n",
      "|Health & Personal Care|neutral       |1    |\n",
      "|Health & Personal Care|positive      |29   |\n",
      "|Major Appliances      |neutral       |1    |\n",
      "|Mobile_Apps           |negative      |21   |\n",
      "|Mobile_Apps           |neutral       |3    |\n",
      "|Mobile_Apps           |positive      |48   |\n",
      "|Mobile_Electronics    |positive      |1    |\n",
      "|Music                 |negative      |9    |\n",
      "|Music                 |neutral       |3    |\n",
      "|Music                 |positive      |42   |\n",
      "|Musical Instruments   |negative      |4    |\n",
      "|Musical Instruments   |positive      |7    |\n",
      "|Office Products       |negative      |14   |\n",
      "|Office Products       |positive      |16   |\n",
      "|Outdoors              |negative      |8    |\n",
      "|Outdoors              |neutral       |2    |\n",
      "|Outdoors              |positive      |7    |\n",
      "|PC                    |negative      |40   |\n",
      "|PC                    |neutral       |3    |\n",
      "|PC                    |positive      |35   |\n",
      "|Pet Products          |negative      |8    |\n",
      "|Pet Products          |neutral       |1    |\n",
      "|Pet Products          |positive      |13   |\n",
      "|Shoes                 |negative      |15   |\n",
      "|Shoes                 |neutral       |2    |\n",
      "|Shoes                 |positive      |37   |\n",
      "|Software              |negative      |4    |\n",
      "|Software              |positive      |1    |\n",
      "|Sports                |negative      |24   |\n",
      "|Sports                |neutral       |3    |\n",
      "|Sports                |positive      |24   |\n",
      "|Tools                 |negative      |6    |\n",
      "|Tools                 |neutral       |2    |\n",
      "|Tools                 |positive      |10   |\n",
      "|Toys                  |negative      |16   |\n",
      "|Toys                  |neutral       |4    |\n",
      "|Toys                  |positive      |28   |\n",
      "|Video                 |negative      |2    |\n",
      "|Video                 |positive      |5    |\n",
      "|Video DVD             |negative      |20   |\n",
      "|Video DVD             |positive      |44   |\n",
      "|Video Games           |negative      |5    |\n",
      "|Video Games           |positive      |14   |\n",
      "|Watches               |negative      |1    |\n",
      "|Watches               |positive      |4    |\n",
      "|Wireless              |negative      |53   |\n",
      "|Wireless              |neutral       |4    |\n",
      "|Wireless              |positive      |39   |\n",
      "+----------------------+--------------+-----+\n",
      "\n"
     ]
    },
    {
     "name": "stderr",
     "output_type": "stream",
     "text": [
      "                                                                                \r"
     ]
    }
   ],
   "source": [
    "from pyspark.sql import functions as F\n",
    "\n",
    "# Group by product_category and body_sentiment, then count the occurrences\n",
    "distribution = sampled_df.groupBy(\"product_category\", \"body_sentiment\").count()\n",
    "\n",
    "# Order the results for better readability (optional)\n",
    "distribution = distribution.orderBy(\"product_category\", \"body_sentiment\")\n",
    "\n",
    "# Show the results\n",
    "distribution.show(distribution.count(), truncate=False)"
   ]
  },
  {
   "cell_type": "code",
   "execution_count": 20,
   "metadata": {},
   "outputs": [
    {
     "name": "stderr",
     "output_type": "stream",
     "text": [
      "[Stage 58:=============>(410 + 1) / 411][Stage 59:>              (0 + 19) / 411]\r"
     ]
    },
    {
     "name": "stderr",
     "output_type": "stream",
     "text": [
      "[Stage 68:=====================================================>(410 + 1) / 411]\r"
     ]
    },
    {
     "name": "stdout",
     "output_type": "stream",
     "text": [
      "+----------------------+------------------+-----+\n",
      "|product_category      |headline_sentiment|count|\n",
      "+----------------------+------------------+-----+\n",
      "|Apparel               |negative          |17   |\n",
      "|Apparel               |positive          |49   |\n",
      "|Automotive            |negative          |12   |\n",
      "|Automotive            |positive          |24   |\n",
      "|Baby                  |negative          |3    |\n",
      "|Baby                  |neutral           |1    |\n",
      "|Baby                  |positive          |15   |\n",
      "|Beauty                |negative          |14   |\n",
      "|Beauty                |positive          |41   |\n",
      "|Books                 |negative          |11   |\n",
      "|Books                 |neutral           |1    |\n",
      "|Books                 |positive          |24   |\n",
      "|Camera                |negative          |3    |\n",
      "|Camera                |neutral           |2    |\n",
      "|Camera                |positive          |15   |\n",
      "|Digital_Ebook_Purchase|negative          |12   |\n",
      "|Digital_Ebook_Purchase|neutral           |3    |\n",
      "|Digital_Ebook_Purchase|positive          |44   |\n",
      "|Digital_Music_Purchase|negative          |1    |\n",
      "|Digital_Music_Purchase|neutral           |1    |\n",
      "|Digital_Music_Purchase|positive          |15   |\n",
      "|Digital_Software      |positive          |1    |\n",
      "|Digital_Video_Download|negative          |8    |\n",
      "|Digital_Video_Download|positive          |46   |\n",
      "|Electronics           |negative          |11   |\n",
      "|Electronics           |positive          |23   |\n",
      "|Furniture             |negative          |3    |\n",
      "|Furniture             |positive          |8    |\n",
      "|Grocery               |negative          |1    |\n",
      "|Grocery               |positive          |20   |\n",
      "|Health & Personal Care|negative          |21   |\n",
      "|Health & Personal Care|positive          |35   |\n",
      "|Major Appliances      |positive          |1    |\n",
      "|Mobile_Apps           |negative          |17   |\n",
      "|Mobile_Apps           |neutral           |3    |\n",
      "|Mobile_Apps           |positive          |52   |\n",
      "|Mobile_Electronics    |positive          |1    |\n",
      "|Music                 |negative          |6    |\n",
      "|Music                 |neutral           |2    |\n",
      "|Music                 |positive          |46   |\n",
      "|Musical Instruments   |negative          |2    |\n",
      "|Musical Instruments   |positive          |9    |\n",
      "|Office Products       |negative          |5    |\n",
      "|Office Products       |neutral           |1    |\n",
      "|Office Products       |positive          |24   |\n",
      "|Outdoors              |negative          |5    |\n",
      "|Outdoors              |positive          |12   |\n",
      "|PC                    |negative          |18   |\n",
      "|PC                    |neutral           |2    |\n",
      "|PC                    |positive          |58   |\n",
      "|Pet Products          |negative          |5    |\n",
      "|Pet Products          |positive          |17   |\n",
      "|Shoes                 |negative          |8    |\n",
      "|Shoes                 |neutral           |1    |\n",
      "|Shoes                 |positive          |45   |\n",
      "|Software              |neutral           |1    |\n",
      "|Software              |positive          |4    |\n",
      "|Sports                |negative          |8    |\n",
      "|Sports                |neutral           |1    |\n",
      "|Sports                |positive          |42   |\n",
      "|Tools                 |negative          |2    |\n",
      "|Tools                 |neutral           |1    |\n",
      "|Tools                 |positive          |15   |\n",
      "|Toys                  |negative          |9    |\n",
      "|Toys                  |neutral           |3    |\n",
      "|Toys                  |positive          |36   |\n",
      "|Video                 |negative          |1    |\n",
      "|Video                 |neutral           |1    |\n",
      "|Video                 |positive          |5    |\n",
      "|Video DVD             |negative          |11   |\n",
      "|Video DVD             |positive          |53   |\n",
      "|Video Games           |negative          |4    |\n",
      "|Video Games           |positive          |15   |\n",
      "|Watches               |negative          |1    |\n",
      "|Watches               |positive          |4    |\n",
      "|Wireless              |negative          |27   |\n",
      "|Wireless              |neutral           |1    |\n",
      "|Wireless              |positive          |68   |\n",
      "+----------------------+------------------+-----+\n",
      "\n"
     ]
    },
    {
     "name": "stderr",
     "output_type": "stream",
     "text": [
      "                                                                                \r"
     ]
    }
   ],
   "source": [
    "from pyspark.sql import functions as F\n",
    "\n",
    "# Group by product_category and body_sentiment, then count the occurrences\n",
    "distribution = sampled_df.groupBy(\"product_category\", \"headline_sentiment\").count()\n",
    "\n",
    "# Order the results for better readability (optional)\n",
    "distribution = distribution.orderBy(\"product_category\", \"headline_sentiment\")\n",
    "\n",
    "# Show the results\n",
    "distribution.show(distribution.count(), truncate=False)"
   ]
  },
  {
   "cell_type": "code",
   "execution_count": 22,
   "metadata": {},
   "outputs": [
    {
     "ename": "ConnectionRefusedError",
     "evalue": "[Errno 111] Connection refused",
     "output_type": "error",
     "traceback": [
      "\u001b[0;31m---------------------------------------------------------------------------\u001b[0m",
      "\u001b[0;31mConnectionRefusedError\u001b[0m                    Traceback (most recent call last)",
      "\u001b[1;32m/home/zzfz/BigDataNotebooks/big_data.ipynb Cell 16\u001b[0m line \u001b[0;36m9\n\u001b[1;32m      <a href='vscode-notebook-cell://wsl%2Bubuntu/home/zzfz/BigDataNotebooks/big_data.ipynb#X15sdnNjb2RlLXJlbW90ZQ%3D%3D?line=4'>5</a>\u001b[0m \u001b[39mdef\u001b[39;00m \u001b[39msentiment_to_number\u001b[39m(sentiment):\n\u001b[1;32m      <a href='vscode-notebook-cell://wsl%2Bubuntu/home/zzfz/BigDataNotebooks/big_data.ipynb#X15sdnNjb2RlLXJlbW90ZQ%3D%3D?line=5'>6</a>\u001b[0m     \u001b[39mreturn\u001b[39;00m {\u001b[39m\"\u001b[39m\u001b[39mpositive\u001b[39m\u001b[39m\"\u001b[39m: \u001b[39m1\u001b[39m, \u001b[39m\"\u001b[39m\u001b[39mnegative\u001b[39m\u001b[39m\"\u001b[39m: \u001b[39m-\u001b[39m\u001b[39m1\u001b[39m, \u001b[39m\"\u001b[39m\u001b[39mneutral\u001b[39m\u001b[39m\"\u001b[39m: \u001b[39m0\u001b[39m}\u001b[39m.\u001b[39mget(sentiment, \u001b[39m0\u001b[39m)\n\u001b[0;32m----> <a href='vscode-notebook-cell://wsl%2Bubuntu/home/zzfz/BigDataNotebooks/big_data.ipynb#X15sdnNjb2RlLXJlbW90ZQ%3D%3D?line=8'>9</a>\u001b[0m sentiment_udf \u001b[39m=\u001b[39m udf(sentiment_to_number, IntegerType())\n\u001b[1;32m     <a href='vscode-notebook-cell://wsl%2Bubuntu/home/zzfz/BigDataNotebooks/big_data.ipynb#X15sdnNjb2RlLXJlbW90ZQ%3D%3D?line=10'>11</a>\u001b[0m \u001b[39m# Apply the UDF to the sentiment columns\u001b[39;00m\n\u001b[1;32m     <a href='vscode-notebook-cell://wsl%2Bubuntu/home/zzfz/BigDataNotebooks/big_data.ipynb#X15sdnNjb2RlLXJlbW90ZQ%3D%3D?line=11'>12</a>\u001b[0m sampled_df \u001b[39m=\u001b[39m sampled_df\u001b[39m.\u001b[39mwithColumn(\n\u001b[1;32m     <a href='vscode-notebook-cell://wsl%2Bubuntu/home/zzfz/BigDataNotebooks/big_data.ipynb#X15sdnNjb2RlLXJlbW90ZQ%3D%3D?line=12'>13</a>\u001b[0m     \u001b[39m\"\u001b[39m\u001b[39mnum_headline_sentiment\u001b[39m\u001b[39m\"\u001b[39m, sentiment_udf(\u001b[39m\"\u001b[39m\u001b[39mheadline_sentiment\u001b[39m\u001b[39m\"\u001b[39m)\n\u001b[1;32m     <a href='vscode-notebook-cell://wsl%2Bubuntu/home/zzfz/BigDataNotebooks/big_data.ipynb#X15sdnNjb2RlLXJlbW90ZQ%3D%3D?line=13'>14</a>\u001b[0m )\n",
      "File \u001b[0;32m~/anaconda3/envs/BigData/lib/python3.10/site-packages/pyspark/sql/utils.py:160\u001b[0m, in \u001b[0;36mtry_remote_functions.<locals>.wrapped\u001b[0;34m(*args, **kwargs)\u001b[0m\n\u001b[1;32m    158\u001b[0m     \u001b[39mreturn\u001b[39;00m \u001b[39mgetattr\u001b[39m(functions, f\u001b[39m.\u001b[39m\u001b[39m__name__\u001b[39m)(\u001b[39m*\u001b[39margs, \u001b[39m*\u001b[39m\u001b[39m*\u001b[39mkwargs)\n\u001b[1;32m    159\u001b[0m \u001b[39melse\u001b[39;00m:\n\u001b[0;32m--> 160\u001b[0m     \u001b[39mreturn\u001b[39;00m f(\u001b[39m*\u001b[39;49margs, \u001b[39m*\u001b[39;49m\u001b[39m*\u001b[39;49mkwargs)\n",
      "File \u001b[0;32m~/anaconda3/envs/BigData/lib/python3.10/site-packages/pyspark/sql/functions.py:10214\u001b[0m, in \u001b[0;36mudf\u001b[0;34m(f, returnType)\u001b[0m\n\u001b[1;32m  10208\u001b[0m     \u001b[39mreturn\u001b[39;00m functools\u001b[39m.\u001b[39mpartial(\n\u001b[1;32m  10209\u001b[0m         _create_py_udf,\n\u001b[1;32m  10210\u001b[0m         returnType\u001b[39m=\u001b[39mreturn_type,\n\u001b[1;32m  10211\u001b[0m         evalType\u001b[39m=\u001b[39mPythonEvalType\u001b[39m.\u001b[39mSQL_BATCHED_UDF,\n\u001b[1;32m  10212\u001b[0m     )\n\u001b[1;32m  10213\u001b[0m \u001b[39melse\u001b[39;00m:\n\u001b[0;32m> 10214\u001b[0m     \u001b[39mreturn\u001b[39;00m _create_py_udf(f\u001b[39m=\u001b[39;49mf, returnType\u001b[39m=\u001b[39;49mreturnType, evalType\u001b[39m=\u001b[39;49mPythonEvalType\u001b[39m.\u001b[39;49mSQL_BATCHED_UDF)\n",
      "File \u001b[0;32m~/anaconda3/envs/BigData/lib/python3.10/site-packages/pyspark/sql/udf.py:122\u001b[0m, in \u001b[0;36m_create_py_udf\u001b[0;34m(f, returnType, evalType)\u001b[0m\n\u001b[1;32m    117\u001b[0m \u001b[39mfrom\u001b[39;00m \u001b[39mpyspark\u001b[39;00m\u001b[39m.\u001b[39;00m\u001b[39msql\u001b[39;00m \u001b[39mimport\u001b[39;00m SparkSession\n\u001b[1;32m    119\u001b[0m session \u001b[39m=\u001b[39m SparkSession\u001b[39m.\u001b[39m_instantiatedSession\n\u001b[1;32m    120\u001b[0m is_arrow_enabled \u001b[39m=\u001b[39m (\n\u001b[1;32m    121\u001b[0m     session \u001b[39mis\u001b[39;00m \u001b[39mnot\u001b[39;00m \u001b[39mNone\u001b[39;00m\n\u001b[0;32m--> 122\u001b[0m     \u001b[39mand\u001b[39;00m session\u001b[39m.\u001b[39;49mconf\u001b[39m.\u001b[39mget(\u001b[39m\"\u001b[39m\u001b[39mspark.sql.execution.pythonUDF.arrow.enabled\u001b[39m\u001b[39m\"\u001b[39m) \u001b[39m==\u001b[39m \u001b[39m\"\u001b[39m\u001b[39mtrue\u001b[39m\u001b[39m\"\u001b[39m\n\u001b[1;32m    123\u001b[0m )\n\u001b[1;32m    125\u001b[0m regular_udf \u001b[39m=\u001b[39m _create_udf(f, returnType, evalType)\n\u001b[1;32m    126\u001b[0m return_type \u001b[39m=\u001b[39m regular_udf\u001b[39m.\u001b[39mreturnType\n",
      "File \u001b[0;32m~/anaconda3/envs/BigData/lib/python3.10/site-packages/pyspark/sql/session.py:686\u001b[0m, in \u001b[0;36mSparkSession.conf\u001b[0;34m(self)\u001b[0m\n\u001b[1;32m    662\u001b[0m \u001b[39m\u001b[39m\u001b[39m\"\"\"Runtime configuration interface for Spark.\u001b[39;00m\n\u001b[1;32m    663\u001b[0m \n\u001b[1;32m    664\u001b[0m \u001b[39mThis is the interface through which the user can get and set all Spark and Hadoop\u001b[39;00m\n\u001b[0;32m   (...)\u001b[0m\n\u001b[1;32m    683\u001b[0m \u001b[39m'value'\u001b[39;00m\n\u001b[1;32m    684\u001b[0m \u001b[39m\"\"\"\u001b[39;00m\n\u001b[1;32m    685\u001b[0m \u001b[39mif\u001b[39;00m \u001b[39mnot\u001b[39;00m \u001b[39mhasattr\u001b[39m(\u001b[39mself\u001b[39m, \u001b[39m\"\u001b[39m\u001b[39m_conf\u001b[39m\u001b[39m\"\u001b[39m):\n\u001b[0;32m--> 686\u001b[0m     \u001b[39mself\u001b[39m\u001b[39m.\u001b[39m_conf \u001b[39m=\u001b[39m RuntimeConfig(\u001b[39mself\u001b[39;49m\u001b[39m.\u001b[39;49m_jsparkSession\u001b[39m.\u001b[39;49mconf())\n\u001b[1;32m    687\u001b[0m \u001b[39mreturn\u001b[39;00m \u001b[39mself\u001b[39m\u001b[39m.\u001b[39m_conf\n",
      "File \u001b[0;32m~/anaconda3/envs/BigData/lib/python3.10/site-packages/py4j/java_gateway.py:1321\u001b[0m, in \u001b[0;36mJavaMember.__call__\u001b[0;34m(self, *args)\u001b[0m\n\u001b[1;32m   1314\u001b[0m args_command, temp_args \u001b[39m=\u001b[39m \u001b[39mself\u001b[39m\u001b[39m.\u001b[39m_build_args(\u001b[39m*\u001b[39margs)\n\u001b[1;32m   1316\u001b[0m command \u001b[39m=\u001b[39m proto\u001b[39m.\u001b[39mCALL_COMMAND_NAME \u001b[39m+\u001b[39m\\\n\u001b[1;32m   1317\u001b[0m     \u001b[39mself\u001b[39m\u001b[39m.\u001b[39mcommand_header \u001b[39m+\u001b[39m\\\n\u001b[1;32m   1318\u001b[0m     args_command \u001b[39m+\u001b[39m\\\n\u001b[1;32m   1319\u001b[0m     proto\u001b[39m.\u001b[39mEND_COMMAND_PART\n\u001b[0;32m-> 1321\u001b[0m answer \u001b[39m=\u001b[39m \u001b[39mself\u001b[39;49m\u001b[39m.\u001b[39;49mgateway_client\u001b[39m.\u001b[39;49msend_command(command)\n\u001b[1;32m   1322\u001b[0m return_value \u001b[39m=\u001b[39m get_return_value(\n\u001b[1;32m   1323\u001b[0m     answer, \u001b[39mself\u001b[39m\u001b[39m.\u001b[39mgateway_client, \u001b[39mself\u001b[39m\u001b[39m.\u001b[39mtarget_id, \u001b[39mself\u001b[39m\u001b[39m.\u001b[39mname)\n\u001b[1;32m   1325\u001b[0m \u001b[39mfor\u001b[39;00m temp_arg \u001b[39min\u001b[39;00m temp_args:\n",
      "File \u001b[0;32m~/anaconda3/envs/BigData/lib/python3.10/site-packages/py4j/java_gateway.py:1036\u001b[0m, in \u001b[0;36mGatewayClient.send_command\u001b[0;34m(self, command, retry, binary)\u001b[0m\n\u001b[1;32m   1015\u001b[0m \u001b[39mdef\u001b[39;00m \u001b[39msend_command\u001b[39m(\u001b[39mself\u001b[39m, command, retry\u001b[39m=\u001b[39m\u001b[39mTrue\u001b[39;00m, binary\u001b[39m=\u001b[39m\u001b[39mFalse\u001b[39;00m):\n\u001b[1;32m   1016\u001b[0m \u001b[39m    \u001b[39m\u001b[39m\"\"\"Sends a command to the JVM. This method is not intended to be\u001b[39;00m\n\u001b[1;32m   1017\u001b[0m \u001b[39m       called directly by Py4J users. It is usually called by\u001b[39;00m\n\u001b[1;32m   1018\u001b[0m \u001b[39m       :class:`JavaMember` instances.\u001b[39;00m\n\u001b[0;32m   (...)\u001b[0m\n\u001b[1;32m   1034\u001b[0m \u001b[39m     if `binary` is `True`.\u001b[39;00m\n\u001b[1;32m   1035\u001b[0m \u001b[39m    \"\"\"\u001b[39;00m\n\u001b[0;32m-> 1036\u001b[0m     connection \u001b[39m=\u001b[39m \u001b[39mself\u001b[39;49m\u001b[39m.\u001b[39;49m_get_connection()\n\u001b[1;32m   1037\u001b[0m     \u001b[39mtry\u001b[39;00m:\n\u001b[1;32m   1038\u001b[0m         response \u001b[39m=\u001b[39m connection\u001b[39m.\u001b[39msend_command(command)\n",
      "File \u001b[0;32m~/anaconda3/envs/BigData/lib/python3.10/site-packages/py4j/clientserver.py:284\u001b[0m, in \u001b[0;36mJavaClient._get_connection\u001b[0;34m(self)\u001b[0m\n\u001b[1;32m    281\u001b[0m     \u001b[39mpass\u001b[39;00m\n\u001b[1;32m    283\u001b[0m \u001b[39mif\u001b[39;00m connection \u001b[39mis\u001b[39;00m \u001b[39mNone\u001b[39;00m \u001b[39mor\u001b[39;00m connection\u001b[39m.\u001b[39msocket \u001b[39mis\u001b[39;00m \u001b[39mNone\u001b[39;00m:\n\u001b[0;32m--> 284\u001b[0m     connection \u001b[39m=\u001b[39m \u001b[39mself\u001b[39;49m\u001b[39m.\u001b[39;49m_create_new_connection()\n\u001b[1;32m    285\u001b[0m \u001b[39mreturn\u001b[39;00m connection\n",
      "File \u001b[0;32m~/anaconda3/envs/BigData/lib/python3.10/site-packages/py4j/clientserver.py:291\u001b[0m, in \u001b[0;36mJavaClient._create_new_connection\u001b[0;34m(self)\u001b[0m\n\u001b[1;32m    287\u001b[0m \u001b[39mdef\u001b[39;00m \u001b[39m_create_new_connection\u001b[39m(\u001b[39mself\u001b[39m):\n\u001b[1;32m    288\u001b[0m     connection \u001b[39m=\u001b[39m ClientServerConnection(\n\u001b[1;32m    289\u001b[0m         \u001b[39mself\u001b[39m\u001b[39m.\u001b[39mjava_parameters, \u001b[39mself\u001b[39m\u001b[39m.\u001b[39mpython_parameters,\n\u001b[1;32m    290\u001b[0m         \u001b[39mself\u001b[39m\u001b[39m.\u001b[39mgateway_property, \u001b[39mself\u001b[39m)\n\u001b[0;32m--> 291\u001b[0m     connection\u001b[39m.\u001b[39;49mconnect_to_java_server()\n\u001b[1;32m    292\u001b[0m     \u001b[39mself\u001b[39m\u001b[39m.\u001b[39mset_thread_connection(connection)\n\u001b[1;32m    293\u001b[0m     \u001b[39mreturn\u001b[39;00m connection\n",
      "File \u001b[0;32m~/anaconda3/envs/BigData/lib/python3.10/site-packages/py4j/clientserver.py:438\u001b[0m, in \u001b[0;36mClientServerConnection.connect_to_java_server\u001b[0;34m(self)\u001b[0m\n\u001b[1;32m    435\u001b[0m \u001b[39mif\u001b[39;00m \u001b[39mself\u001b[39m\u001b[39m.\u001b[39mssl_context:\n\u001b[1;32m    436\u001b[0m     \u001b[39mself\u001b[39m\u001b[39m.\u001b[39msocket \u001b[39m=\u001b[39m \u001b[39mself\u001b[39m\u001b[39m.\u001b[39mssl_context\u001b[39m.\u001b[39mwrap_socket(\n\u001b[1;32m    437\u001b[0m         \u001b[39mself\u001b[39m\u001b[39m.\u001b[39msocket, server_hostname\u001b[39m=\u001b[39m\u001b[39mself\u001b[39m\u001b[39m.\u001b[39mjava_address)\n\u001b[0;32m--> 438\u001b[0m \u001b[39mself\u001b[39;49m\u001b[39m.\u001b[39;49msocket\u001b[39m.\u001b[39;49mconnect((\u001b[39mself\u001b[39;49m\u001b[39m.\u001b[39;49mjava_address, \u001b[39mself\u001b[39;49m\u001b[39m.\u001b[39;49mjava_port))\n\u001b[1;32m    439\u001b[0m \u001b[39mself\u001b[39m\u001b[39m.\u001b[39mstream \u001b[39m=\u001b[39m \u001b[39mself\u001b[39m\u001b[39m.\u001b[39msocket\u001b[39m.\u001b[39mmakefile(\u001b[39m\"\u001b[39m\u001b[39mrb\u001b[39m\u001b[39m\"\u001b[39m)\n\u001b[1;32m    440\u001b[0m \u001b[39mself\u001b[39m\u001b[39m.\u001b[39mis_connected \u001b[39m=\u001b[39m \u001b[39mTrue\u001b[39;00m\n",
      "\u001b[0;31mConnectionRefusedError\u001b[0m: [Errno 111] Connection refused"
     ]
    }
   ],
   "source": [
    "from pyspark.sql.functions import udf\n",
    "from pyspark.sql.types import IntegerType\n",
    "\n",
    "\n",
    "def sentiment_to_number(sentiment):\n",
    "    return {\"positive\": 1, \"negative\": -1, \"neutral\": 0}.get(sentiment, 0)\n",
    "\n",
    "\n",
    "sentiment_udf = udf(sentiment_to_number, IntegerType())\n",
    "\n",
    "# Apply the UDF to the sentiment columns\n",
    "sampled_df = sampled_df.withColumn(\n",
    "    \"num_headline_sentiment\", sentiment_udf(\"headline_sentiment\")\n",
    ")\n",
    "sampled_df = sampled_df.withColumn(\n",
    "    \"num_body_sentiment\", sentiment_udf(\"body_sentiment\")\n",
    ")\n",
    "sampled_df.show()\n",
    "\n",
    "# # Apply the UDF to the sentiment columns\n",
    "# df = df.withColumn(\"num_headline_sentiment\", sentiment_udf(\"headline_sentiment\"))\n",
    "# df = df.withColumn(\"num_body_sentiment\", sentiment_udf(\"body_sentiment\"))\n",
    "# df.show()"
   ]
  },
  {
   "cell_type": "code",
   "execution_count": null,
   "metadata": {},
   "outputs": [
    {
     "name": "stderr",
     "output_type": "stream",
     "text": [
      "[Stage 31:=====================================================>(409 + 2) / 411]\r"
     ]
    },
    {
     "name": "stdout",
     "output_type": "stream",
     "text": [
      "+--------------------+------------------+------------------+-----------------------+--------------------+\n",
      "|    product_category|  mean_star_rating|median_star_rating|mean_headline_sentiment| mean_body_sentiment|\n",
      "+--------------------+------------------+------------------+-----------------------+--------------------+\n",
      "|             Apparel| 3.893939393939394|               4.0|    0.48484848484848486| 0.21212121212121213|\n",
      "|          Automotive| 4.055555555555555|               5.0|     0.3333333333333333| -0.1388888888888889|\n",
      "|                Baby| 4.105263157894737|               5.0|      0.631578947368421|  0.2631578947368421|\n",
      "|              Beauty|               4.0|               5.0|     0.4909090909090909|-0.09090909090909091|\n",
      "|               Books|3.9166666666666665|               5.0|     0.3611111111111111|  0.4444444444444444|\n",
      "|              Camera|               4.3|               5.0|                    0.6|                 0.5|\n",
      "|Digital_Ebook_Pur...| 4.169491525423729|               5.0|     0.5423728813559322|  0.3898305084745763|\n",
      "|Digital_Music_Pur...| 4.882352941176471|               5.0|     0.8235294117647058|  0.6470588235294118|\n",
      "|Digital_Video_Dow...| 4.092592592592593|               5.0|     0.7037037037037037|  0.7037037037037037|\n",
      "|         Electronics| 3.823529411764706|               5.0|    0.35294117647058826|-0.14705882352941177|\n",
      "|           Furniture| 3.909090909090909|               5.0|    0.45454545454545453|                 0.0|\n",
      "|             Grocery| 4.523809523809524|               5.0|     0.9047619047619048| 0.42857142857142855|\n",
      "|Health & Personal...|              4.25|               5.0|                   0.25| 0.05357142857142857|\n",
      "|         Mobile_Apps| 3.986111111111111|               5.0|     0.4861111111111111|               0.375|\n",
      "|               Music| 4.333333333333333|               5.0|     0.7407407407407407|  0.6111111111111112|\n",
      "| Musical Instruments| 3.909090909090909|               5.0|     0.6363636363636364|  0.2727272727272727|\n",
      "|     Office Products| 4.333333333333333|               5.0|     0.6333333333333333| 0.06666666666666667|\n",
      "|            Outdoors| 4.235294117647059|               5.0|     0.4117647058823529|-0.05882352941176...|\n",
      "|                  PC|3.9358974358974357|               5.0|     0.5128205128205128| -0.0641025641025641|\n",
      "|        Pet Products| 4.090909090909091|               5.0|     0.5454545454545454| 0.22727272727272727|\n",
      "+--------------------+------------------+------------------+-----------------------+--------------------+\n",
      "only showing top 20 rows\n",
      "\n"
     ]
    },
    {
     "name": "stderr",
     "output_type": "stream",
     "text": [
      "                                                                                \r"
     ]
    }
   ],
   "source": [
    "from pyspark.sql import functions as F\n",
    "\n",
    "\n",
    "sampled_df = sampled_df.withColumn(\n",
    "    \"star_rating\", sampled_df[\"star_rating\"].cast(\"float\")\n",
    ")\n",
    "sampled_df = sampled_df.withColumn(\n",
    "    \"num_headline_sentiment\", sampled_df[\"num_headline_sentiment\"].cast(\"float\")\n",
    ")\n",
    "sampled_df = sampled_df.withColumn(\n",
    "    \"num_body_sentiment\", sampled_df[\"num_body_sentiment\"].cast(\"float\")\n",
    ")\n",
    "\n",
    "category_stats = sampled_df.groupBy(\"product_category\").agg(\n",
    "    F.mean(\"star_rating\").alias(\"mean_star_rating\"),\n",
    "    F.expr(\"percentile_approx(star_rating, 0.5)\").alias(\n",
    "        \"median_star_rating\"\n",
    "    ),  # Approximate median\n",
    "    F.mean(\"num_headline_sentiment\").alias(\"mean_headline_sentiment\"),\n",
    "    F.mean(\"num_body_sentiment\").alias(\"mean_body_sentiment\"),\n",
    ")\n",
    "\n",
    "\n",
    "# df = df.withColumn(\"star_rating\", df[\"star_rating\"].cast(\"float\"))\n",
    "# df = df.withColumn(\"num_headline_sentiment\", df[\"num_headline_sentiment\"].cast(\"float\"))\n",
    "# df = df.withColumn(\"num_body_sentiment\", df[\"num_body_sentiment\"].cast(\"float\"))\n",
    "\n",
    "# category_stats = df.groupBy(\"product_category\").agg(\n",
    "#     F.mean(\"star_rating\").alias(\"mean_star_rating\"),\n",
    "#     F.expr(\"percentile_approx(star_rating, 0.5)\").alias(\n",
    "#         \"median_star_rating\"\n",
    "#     ),  # Approximate median\n",
    "#     F.mean(\"num_headline_sentiment\").alias(\"mean_headline_sentiment\"),\n",
    "#     F.mean(\"num_body_sentiment\").alias(\"mean_body_sentiment\"),\n",
    "# )\n",
    "category_stats.show(category_stats.count(), truncate=False)"
   ]
  },
  {
   "cell_type": "code",
   "execution_count": null,
   "metadata": {},
   "outputs": [],
   "source": [
    "from pyspark.sql.functions import col\n",
    "\n",
    "# # Ensure the columns are cast to float for division\n",
    "# df = df.withColumn(\"helpful_votes\", col(\"helpful_votes\").cast(\"float\"))\n",
    "# df = df.withColumn(\"total_votes\", col(\"total_votes\").cast(\"float\"))\n",
    "\n",
    "# # Calculate the ratio\n",
    "# df = df.withColumn(\"helpful_ratio\", col(\"helpful_votes\") / col(\"total_votes\"))\n",
    "\n",
    "# Ensure the columns are cast to float for division\n",
    "sampled_df = sampled_df.withColumn(\"helpful_votes\", col(\"helpful_votes\").cast(\"float\"))\n",
    "sampled_df = sampled_df.withColumn(\"total_votes\", col(\"total_votes\").cast(\"float\"))\n",
    "\n",
    "# Calculate the ratio\n",
    "sampled_df = sampled_df.withColumn(\n",
    "    \"helpful_ratio\", col(\"helpful_votes\") / col(\"total_votes\")\n",
    ")\n",
    "\n",
    "sampled_df.show()"
   ]
  },
  {
   "cell_type": "code",
   "execution_count": null,
   "metadata": {},
   "outputs": [],
   "source": [
    "from pyspark.sql import functions as F\n",
    "\n",
    "category_stats = sampled_df.groupBy(\"product_category\").agg(\n",
    "    F.mean(\"helpful_ratio\").alias(\"mean_helpful_ratio\"),\n",
    "    F.expr(\"percentile_approx(helpful_ratio, 0.5)\").alias(\"median_helpful_ratio\"),\n",
    ")"
   ]
  },
  {
   "cell_type": "code",
   "execution_count": null,
   "metadata": {},
   "outputs": [],
   "source": [
    "sampled_df.cache()"
   ]
  },
  {
   "cell_type": "code",
   "execution_count": null,
   "metadata": {},
   "outputs": [],
   "source": [
    "from pyspark.sql.functions import when\n",
    "\n",
    "# Avoid division by zero and create a new column for the ratio\n",
    "sampled_df = sampled_df.withColumn(\n",
    "    \"helpful_ratio\",\n",
    "    when(col(\"total_votes\") != 0, col(\"helpful_votes\") / col(\"total_votes\")).otherwise(\n",
    "        0\n",
    "    ),\n",
    ")\n",
    "\n",
    "# Calculate correlation between star_rating and helpful_ratio\n",
    "star_helpful_ratio_corr = sampled_df.stat.corr(\"star_rating\", \"helpful_ratio\")\n",
    "print(\n",
    "    \"Correlation between star_rating and helpful_votes/total_votes ratio:\",\n",
    "    star_helpful_ratio_corr,\n",
    ")\n",
    "# Calculate correlation between star_rating and helpful_votes\n",
    "star_helpful_corr = sampled_df.stat.corr(\"star_rating\", \"helpful_votes\")\n",
    "print(\"Correlation between star_rating and helpful_votes:\", star_helpful_corr)\n",
    "\n",
    "# Calculate correlation between star_rating and total_votes\n",
    "star_total_corr = sampled_df.stat.corr(\"star_rating\", \"total_votes\")\n",
    "print(\"Correlation between star_rating and total_votes:\", star_total_corr)\n",
    "\n",
    "\n",
    "# Avoid division by zero and create a new column for the ratio\n",
    "sampled_df = sampled_df.withColumn(\n",
    "    \"helpful_ratio\",\n",
    "    when(col(\"total_votes\") != 0, col(\"helpful_votes\") / col(\"total_votes\")).otherwise(\n",
    "        0\n",
    "    ),\n",
    ")\n",
    "\n",
    "# Calculate correlation between star_rating and helpful_ratio\n",
    "star_helpful_ratio_corr = sampled_df.stat.corr(\"star_rating\", \"helpful_ratio\")\n",
    "print(\n",
    "    \"Correlation between star_rating and helpful_votes/total_votes ratio:\",\n",
    "    star_helpful_ratio_corr,\n",
    ")"
   ]
  },
  {
   "cell_type": "code",
   "execution_count": null,
   "metadata": {},
   "outputs": [],
   "source": [
    "stats_pd = category_stats.toPandas()"
   ]
  },
  {
   "cell_type": "code",
   "execution_count": null,
   "metadata": {},
   "outputs": [],
   "source": [
    "import matplotlib.pyplot as plt\n",
    "\n",
    "\n",
    "def plot_histogram(data, column, title, color):\n",
    "    plt.figure(figsize=(10, 6))\n",
    "    plt.hist(data[column], bins=20, color=color, edgecolor=\"black\")\n",
    "    plt.title(title)\n",
    "    plt.xlabel(column)\n",
    "    plt.ylabel(\"Frequency\")\n",
    "    plt.show()\n",
    "\n",
    "\n",
    "plot_histogram(stats_pd, \"mean_star_rating\", \"Mean Star Rating per Category\", \"skyblue\")\n",
    "plot_histogram(\n",
    "    stats_pd, \"median_star_rating\", \"Median Star Rating per Category\", \"olive\"\n",
    ")\n",
    "plot_histogram(\n",
    "    stats_pd, \"mean_headline_sentiment\", \"Mean Headline Sentiment per Category\", \"gold\"\n",
    ")\n",
    "plot_histogram(\n",
    "    stats_pd, \"mean_body_sentiment\", \"Mean Body Sentiment per Category\", \"teal\"\n",
    ")"
   ]
  },
  {
   "cell_type": "code",
   "execution_count": null,
   "metadata": {},
   "outputs": [],
   "source": [
    "review_bodies = sampled_df.select(\"review_body\").rdd.flatMap(lambda x: x).collect()\n",
    "text = \" \".join(review_bodies)"
   ]
  },
  {
   "cell_type": "code",
   "execution_count": null,
   "metadata": {},
   "outputs": [],
   "source": [
    "from wordcloud import WordCloud\n",
    "import matplotlib.pyplot as plt\n",
    "\n",
    "# Generate a word cloud image\n",
    "wordcloud = WordCloud(background_color=\"white\").generate(text)\n",
    "\n",
    "# Display the generated image:\n",
    "plt.figure(figsize=(10, 6))\n",
    "plt.imshow(wordcloud, interpolation=\"bilinear\")\n",
    "plt.axis(\"off\")\n",
    "plt.show()"
   ]
  }
 ],
 "metadata": {
  "kernelspec": {
   "display_name": "BigData",
   "language": "python",
   "name": "python3"
  },
  "language_info": {
   "codemirror_mode": {
    "name": "ipython",
    "version": 3
   },
   "file_extension": ".py",
   "mimetype": "text/x-python",
   "name": "python",
   "nbconvert_exporter": "python",
   "pygments_lexer": "ipython3",
   "version": "3.1.0"
  },
  "orig_nbformat": 4
 },
 "nbformat": 4,
 "nbformat_minor": 2
}
